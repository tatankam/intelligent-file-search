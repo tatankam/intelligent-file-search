{
 "cells": [
  {
   "cell_type": "markdown",
   "metadata": {},
   "source": [
    "Run this notebook in the same virtual environment with superlinked server\n",
    "to ensure the same version of `superlinked` framework."
   ]
  },
  {
   "cell_type": "code",
   "execution_count": 5,
   "metadata": {},
   "outputs": [
    {
     "name": "stdout",
     "output_type": "stream",
     "text": [
      "superlinked==29.1.0\n",
      "superlinked-server==1.37.0\n"
     ]
    }
   ],
   "source": [
    "!pip freeze | grep superlinked"
   ]
  },
  {
   "cell_type": "code",
   "execution_count": 6,
   "metadata": {},
   "outputs": [
    {
     "name": "stdout",
     "output_type": "stream",
     "text": [
      "project_dir is added to sys.path\n"
     ]
    }
   ],
   "source": [
    "from pathlib import Path\n",
    "import sys\n",
    "\n",
    "# Determine current working directory\n",
    "cwd = Path.cwd()\n",
    "\n",
    "# Adapt logic for your specific project structure\n",
    "if cwd.name == \"intelligent-file-search\":\n",
    "    project_dir = cwd\n",
    "elif cwd.name == \"notebooks\":\n",
    "    project_dir = cwd.parent\n",
    "else:\n",
    "    # fallback (e.g., if inside a subfolder deeper in notebooks or dataset)\n",
    "    project_dir = cwd\n",
    "    while project_dir.name != \"intelligent-file-search\" and project_dir != project_dir.parent:\n",
    "        project_dir = project_dir.parent\n",
    "\n",
    "superlinked_app_dir = project_dir / \"superlinked_app\"\n",
    "assert superlinked_app_dir.exists(), (\n",
    "    f\"{superlinked_app_dir} does not exist\\n\"\n",
    "    \"Are you sure you are in or below the intelligent-file-search directory?\"\n",
    ")\n",
    "\n",
    "if str(project_dir) not in sys.path:\n",
    "    sys.path.append(str(project_dir))\n",
    "    print(\"project_dir is added to sys.path\")\n",
    "else:\n",
    "    print(\"project_dir is already in sys.path\")\n"
   ]
  },
  {
   "cell_type": "markdown",
   "metadata": {},
   "source": [
    "### This is to use the collection_name=filesearch"
   ]
  },
  {
   "cell_type": "code",
   "execution_count": 7,
   "metadata": {},
   "outputs": [],
   "source": [
    "import os\n",
    "os.environ[\"APP_ID\"] = \"filesearch\"\n"
   ]
  },
  {
   "cell_type": "code",
   "execution_count": 8,
   "metadata": {},
   "outputs": [
    {
     "name": "stderr",
     "output_type": "stream",
     "text": [
      "/home/biso/development/my_projects/.venv/lib/python3.12/site-packages/tqdm/auto.py:21: TqdmWarning: IProgress not found. Please update jupyter and ipywidgets. See https://ipywidgets.readthedocs.io/en/stable/user_install.html\n",
      "  from .autonotebook import tqdm as notebook_tqdm\n"
     ]
    },
    {
     "name": "stdout",
     "output_type": "stream",
     "text": [
      "/home/biso/development/my_projects/varie/intelligent-file-search/dataset/categories.json\n",
      "16:48:01 sentence_transformers.SentenceTransformer INFO   Load pretrained SentenceTransformer: sentence-transformers/paraphrase-MiniLM-L3-v2\n"
     ]
    },
    {
     "name": "stderr",
     "output_type": "stream",
     "text": [
      "Batches: 100%|██████████| 1/1 [00:00<00:00, 14.07it/s]"
     ]
    },
    {
     "name": "stdout",
     "output_type": "stream",
     "text": [
      "16:48:04 superlinked.framework.common.space.embedding.model_based.embedding_engine_manager INFO   Consider caching model dimension.\n",
      "16:48:04 superlinked.framework.common.space.embedding.model_based.embedding_engine_manager INFO   Consider caching model dimension.\n",
      "16:48:04 superlinked.framework.dsl.index.index INFO   initialized index\n"
     ]
    },
    {
     "name": "stderr",
     "output_type": "stream",
     "text": [
      "\n"
     ]
    }
   ],
   "source": [
    "from superlinked import framework as sl\n",
    "\n",
    "from superlinked_app.index import index, file_schema\n",
    "from superlinked_app.query import query\n",
    "from superlinked_app.api import vector_database\n",
    "\n",
    "import pandas as pd"
   ]
  },
  {
   "cell_type": "code",
   "execution_count": 9,
   "metadata": {},
   "outputs": [
    {
     "name": "stdout",
     "output_type": "stream",
     "text": [
      "16:48:14 httpx INFO   HTTP Request: GET https://bad13d43-afc8-44b5-8b37-2fa1eb4f0236.eu-west-1-0.aws.cloud.qdrant.io:6333/collections/filesearch/exists \"HTTP/1.1 200 OK\"\n",
      "16:48:14 httpx INFO   HTTP Request: GET https://bad13d43-afc8-44b5-8b37-2fa1eb4f0236.eu-west-1-0.aws.cloud.qdrant.io:6333/collections/filesearch \"HTTP/1.1 200 OK\"\n",
      "16:48:15 httpx INFO   HTTP Request: PUT https://bad13d43-afc8-44b5-8b37-2fa1eb4f0236.eu-west-1-0.aws.cloud.qdrant.io:6333/collections/filesearch/index?wait=true \"HTTP/1.1 200 OK\"\n",
      "16:48:15 httpx INFO   HTTP Request: PUT https://bad13d43-afc8-44b5-8b37-2fa1eb4f0236.eu-west-1-0.aws.cloud.qdrant.io:6333/collections/filesearch/index?wait=true \"HTTP/1.1 200 OK\"\n",
      "16:48:15 httpx INFO   HTTP Request: PUT https://bad13d43-afc8-44b5-8b37-2fa1eb4f0236.eu-west-1-0.aws.cloud.qdrant.io:6333/collections/filesearch/index?wait=true \"HTTP/1.1 200 OK\"\n",
      "16:48:15 httpx INFO   HTTP Request: PUT https://bad13d43-afc8-44b5-8b37-2fa1eb4f0236.eu-west-1-0.aws.cloud.qdrant.io:6333/collections/filesearch/index?wait=true \"HTTP/1.1 200 OK\"\n",
      "16:48:15 httpx INFO   HTTP Request: PUT https://bad13d43-afc8-44b5-8b37-2fa1eb4f0236.eu-west-1-0.aws.cloud.qdrant.io:6333/collections/filesearch/index?wait=true \"HTTP/1.1 200 OK\"\n",
      "16:48:15 httpx INFO   HTTP Request: PUT https://bad13d43-afc8-44b5-8b37-2fa1eb4f0236.eu-west-1-0.aws.cloud.qdrant.io:6333/collections/filesearch/index?wait=true \"HTTP/1.1 200 OK\"\n",
      "16:48:15 httpx INFO   HTTP Request: PUT https://bad13d43-afc8-44b5-8b37-2fa1eb4f0236.eu-west-1-0.aws.cloud.qdrant.io:6333/collections/filesearch/index?wait=true \"HTTP/1.1 200 OK\"\n",
      "16:48:15 httpx INFO   HTTP Request: PUT https://bad13d43-afc8-44b5-8b37-2fa1eb4f0236.eu-west-1-0.aws.cloud.qdrant.io:6333/collections/filesearch/index?wait=true \"HTTP/1.1 200 OK\"\n",
      "16:48:15 httpx INFO   HTTP Request: PUT https://bad13d43-afc8-44b5-8b37-2fa1eb4f0236.eu-west-1-0.aws.cloud.qdrant.io:6333/collections/filesearch/index?wait=true \"HTTP/1.1 200 OK\"\n",
      "16:48:15 superlinked.framework.query.query_dag_evaluator INFO   initialized query dag\n",
      "16:48:15 superlinked.framework.online.online_dag_evaluator INFO   initialized entity dag\n",
      "16:48:15 superlinked.framework.dsl.executor.interactive.interactive_executor INFO   started interactive app\n"
     ]
    }
   ],
   "source": [
    "source = sl.InteractiveSource(file_schema)\n",
    "executor = sl.InteractiveExecutor(\n",
    "    sources=[source],\n",
    "    indices=[index],\n",
    "    vector_database=vector_database,\n",
    ")\n",
    "app = executor.run()"
   ]
  },
  {
   "cell_type": "code",
   "execution_count": 10,
   "metadata": {},
   "outputs": [
    {
     "name": "stdout",
     "output_type": "stream",
     "text": [
      "16:48:52 openai._base_client INFO   Retrying request to /chat/completions in 0.446543 seconds\n",
      "16:48:56 httpx INFO   HTTP Request: POST https://openrouter.ai/api/v1/chat/completions \"HTTP/1.1 200 OK\"\n"
     ]
    },
    {
     "name": "stderr",
     "output_type": "stream",
     "text": [
      "Batches: 100%|██████████| 1/1 [00:00<00:00, 39.86it/s]\n",
      "Batches: 100%|██████████| 1/1 [00:00<00:00, 82.13it/s]"
     ]
    },
    {
     "name": "stdout",
     "output_type": "stream",
     "text": [
      "16:48:58 superlinked.framework.query.query_dag_evaluator INFO   evaluated query\n"
     ]
    },
    {
     "name": "stderr",
     "output_type": "stream",
     "text": [
      "\n"
     ]
    },
    {
     "name": "stdout",
     "output_type": "stream",
     "text": [
      "16:48:59 httpx INFO   HTTP Request: POST https://bad13d43-afc8-44b5-8b37-2fa1eb4f0236.eu-west-1-0.aws.cloud.qdrant.io:6333/collections/filesearch/points/query \"HTTP/1.1 200 OK\"\n",
      "16:48:59 superlinked.framework.dsl.executor.query.query_executor INFO   executed query\n",
      "Search Parameters Parsed by NLQ:\n",
      "{'content_query': 'fashion or sport', 'similar_content_weight': 1.0, 'filename_query': 'pdf', 'similar_filename_weight': 1.0, 'limit': 5, 'select_param__': ['Content', 'File_Type', 'Tags', 'Filename', 'Path', 'Size_kB', 'Creation_Date', 'Last_Modified_Date'], 'min_size_kb': None, 'max_size_kb': None, 'min_creation_date': None, 'max_creation_date': None, 'min_modified_date': None, 'max_modified_date': 1609459200, 'filetype_include_all': None, 'filetype_include_any': ['pdf'], 'filetype_exclude': None, 'tags_include_all': None, 'tags_include_any': ['fashion', 'sport'], 'tags_exclude': None, 'natural_query': 'Recent PDF files about fashion or sport', 'system_prompt_param__': \"Extract search parameters from the user's natural language query about files.\\nGuidelines:\\n- Identify semantic queries about content or file name.\\n- Use file type and tags as categorical filters.\\n- Size in kilobytes may be specified as small/large or by value.\\n- Creation and modification dates may indicate recency.\\n- If no preference is mentioned for a field, use None.\\n- Examples:\\n  1. User query: 'Recent PDF files about fashion or sport' -> file_type: 'pdf', tags: ['fashion', 'sport'], prioritize modified_date.\\n  2. User query: 'Large Word documents about tennis' -> file_type: 'docx', content: 'tennis', size: high.\\n  3. User query: 'Old reports about cinema and cars' -> tags: ['cinema', 'cars'], prioritize old creation_date.\\n  4. User query: 'Documents mentioning basketball' -> content: 'basketball'\\n\", 'radius_param__': None, 'content_weight': 1.0, 'filename_weight': 1.0, 'size_weight': 0.0, 'creation_date_weight': 0.0, 'modified_date_weight': 1.0}\n"
     ]
    },
    {
     "data": {
      "text/html": [
       "<div>\n",
       "<style scoped>\n",
       "    .dataframe tbody tr th:only-of-type {\n",
       "        vertical-align: middle;\n",
       "    }\n",
       "\n",
       "    .dataframe tbody tr th {\n",
       "        vertical-align: top;\n",
       "    }\n",
       "\n",
       "    .dataframe thead th {\n",
       "        text-align: right;\n",
       "    }\n",
       "</style>\n",
       "<table border=\"1\" class=\"dataframe\">\n",
       "  <thead>\n",
       "    <tr style=\"text-align: right;\">\n",
       "      <th></th>\n",
       "      <th>Content</th>\n",
       "      <th>File_Type</th>\n",
       "      <th>Tags</th>\n",
       "      <th>Filename</th>\n",
       "      <th>Path</th>\n",
       "      <th>Size_kB</th>\n",
       "      <th>Creation_Date</th>\n",
       "      <th>Last_Modified_Date</th>\n",
       "      <th>id</th>\n",
       "      <th>similarity_score</th>\n",
       "    </tr>\n",
       "  </thead>\n",
       "  <tbody>\n",
       "    <tr>\n",
       "      <th>0</th>\n",
       "      <td>Model designer trend dress.</td>\n",
       "      <td>[pdf]</td>\n",
       "      <td>[fashion]</td>\n",
       "      <td>trend.pdf</td>\n",
       "      <td>/focus/impact/sound/trend.pdf</td>\n",
       "      <td>8776.0</td>\n",
       "      <td>20/12/2001</td>\n",
       "      <td>24/01/2014</td>\n",
       "      <td>id_96</td>\n",
       "      <td>0.534662</td>\n",
       "    </tr>\n",
       "    <tr>\n",
       "      <th>1</th>\n",
       "      <td>Basketball athlete tennis football championshi...</td>\n",
       "      <td>[pdf]</td>\n",
       "      <td>[sport, fashion, cinema]</td>\n",
       "      <td>basketba.pdf</td>\n",
       "      <td>/argue/basketba.pdf</td>\n",
       "      <td>6608.0</td>\n",
       "      <td>09/11/2012</td>\n",
       "      <td>17/10/2014</td>\n",
       "      <td>id_58</td>\n",
       "      <td>0.525691</td>\n",
       "    </tr>\n",
       "    <tr>\n",
       "      <th>2</th>\n",
       "      <td>Award movie scene director scene movie. Footba...</td>\n",
       "      <td>[pdf]</td>\n",
       "      <td>[cinema, sport, cars]</td>\n",
       "      <td>award.pdf</td>\n",
       "      <td>/financial/under/three/award.pdf</td>\n",
       "      <td>8383.0</td>\n",
       "      <td>24/11/2001</td>\n",
       "      <td>16/12/2011</td>\n",
       "      <td>id_20</td>\n",
       "      <td>0.475730</td>\n",
       "    </tr>\n",
       "    <tr>\n",
       "      <th>3</th>\n",
       "      <td>Athlete football athlete football athlete bask...</td>\n",
       "      <td>[pdf]</td>\n",
       "      <td>[sport]</td>\n",
       "      <td>athlete.pdf</td>\n",
       "      <td>/still/everything/economic/athlete.pdf</td>\n",
       "      <td>1114.0</td>\n",
       "      <td>28/05/2010</td>\n",
       "      <td>16/02/2014</td>\n",
       "      <td>id_24</td>\n",
       "      <td>0.428724</td>\n",
       "    </tr>\n",
       "  </tbody>\n",
       "</table>\n",
       "</div>"
      ],
      "text/plain": [
       "                                             Content File_Type  \\\n",
       "0                        Model designer trend dress.     [pdf]   \n",
       "1  Basketball athlete tennis football championshi...     [pdf]   \n",
       "2  Award movie scene director scene movie. Footba...     [pdf]   \n",
       "3  Athlete football athlete football athlete bask...     [pdf]   \n",
       "\n",
       "                       Tags      Filename  \\\n",
       "0                 [fashion]     trend.pdf   \n",
       "1  [sport, fashion, cinema]  basketba.pdf   \n",
       "2     [cinema, sport, cars]     award.pdf   \n",
       "3                   [sport]   athlete.pdf   \n",
       "\n",
       "                                     Path  Size_kB Creation_Date  \\\n",
       "0           /focus/impact/sound/trend.pdf   8776.0    20/12/2001   \n",
       "1                     /argue/basketba.pdf   6608.0    09/11/2012   \n",
       "2        /financial/under/three/award.pdf   8383.0    24/11/2001   \n",
       "3  /still/everything/economic/athlete.pdf   1114.0    28/05/2010   \n",
       "\n",
       "  Last_Modified_Date     id  similarity_score  \n",
       "0         24/01/2014  id_96          0.534662  \n",
       "1         17/10/2014  id_58          0.525691  \n",
       "2         16/12/2011  id_20          0.475730  \n",
       "3         16/02/2014  id_24          0.428724  "
      ]
     },
     "execution_count": 10,
     "metadata": {},
     "output_type": "execute_result"
    }
   ],
   "source": [
    "from datetime import datetime\n",
    "import pandas as pd\n",
    "def date_to_unix(date_str):\n",
    "    if date_str is None:\n",
    "        return None\n",
    "    return int(datetime.strptime(date_str, \"%d/%m/%Y\").timestamp())\n",
    "# Natural language query parameters\n",
    "params = {\n",
    "    \"natural_query\": \"Recent PDF files about fashion or sport\",\n",
    "    \"limit\": 5,\n",
    "}\n",
    "\n",
    "# Run the query with natural language interface\n",
    "result = app.query(query, **params)\n",
    "\n",
    "# Print the actual interpreted search parameters extracted by NLQ\n",
    "print(\"Search Parameters Parsed by NLQ:\")\n",
    "print(result.metadata.search_params)\n",
    "\n",
    "# Convert the results to a pandas DataFrame\n",
    "df = sl.PandasConverter.to_pandas(result)\n",
    "\n",
    "# Convert Unix timestamps to dd/mm/yyyy format in the DataFrame\n",
    "import pandas as pd\n",
    "df[\"Creation_Date\"] = pd.to_datetime(df[\"Creation_Date\"], unit=\"s\").dt.strftime(\"%d/%m/%Y\")\n",
    "df[\"Last_Modified_Date\"] = pd.to_datetime(df[\"Last_Modified_Date\"], unit=\"s\").dt.strftime(\"%d/%m/%Y\")\n",
    "\n",
    "df"
   ]
  },
  {
   "cell_type": "code",
   "execution_count": 11,
   "metadata": {},
   "outputs": [
    {
     "data": {
      "text/html": [
       "<div>\n",
       "<style scoped>\n",
       "    .dataframe tbody tr th:only-of-type {\n",
       "        vertical-align: middle;\n",
       "    }\n",
       "\n",
       "    .dataframe tbody tr th {\n",
       "        vertical-align: top;\n",
       "    }\n",
       "\n",
       "    .dataframe thead th {\n",
       "        text-align: right;\n",
       "    }\n",
       "</style>\n",
       "<table border=\"1\" class=\"dataframe\">\n",
       "  <thead>\n",
       "    <tr style=\"text-align: right;\">\n",
       "      <th></th>\n",
       "      <th>id</th>\n",
       "      <th>content_similarity</th>\n",
       "      <th>filename_similarity</th>\n",
       "      <th>size_score</th>\n",
       "      <th>creation_date_score</th>\n",
       "      <th>modified_date_score</th>\n",
       "    </tr>\n",
       "  </thead>\n",
       "  <tbody>\n",
       "    <tr>\n",
       "      <th>0</th>\n",
       "      <td>id_96</td>\n",
       "      <td>0.147602</td>\n",
       "      <td>0.184916</td>\n",
       "      <td>0.0</td>\n",
       "      <td>0.0</td>\n",
       "      <td>0.202144</td>\n",
       "    </tr>\n",
       "    <tr>\n",
       "      <th>1</th>\n",
       "      <td>id_58</td>\n",
       "      <td>0.160317</td>\n",
       "      <td>0.157782</td>\n",
       "      <td>0.0</td>\n",
       "      <td>0.0</td>\n",
       "      <td>0.207591</td>\n",
       "    </tr>\n",
       "    <tr>\n",
       "      <th>2</th>\n",
       "      <td>id_20</td>\n",
       "      <td>0.091889</td>\n",
       "      <td>0.198847</td>\n",
       "      <td>0.0</td>\n",
       "      <td>0.0</td>\n",
       "      <td>0.184994</td>\n",
       "    </tr>\n",
       "    <tr>\n",
       "      <th>3</th>\n",
       "      <td>id_24</td>\n",
       "      <td>0.094940</td>\n",
       "      <td>0.131173</td>\n",
       "      <td>0.0</td>\n",
       "      <td>0.0</td>\n",
       "      <td>0.202610</td>\n",
       "    </tr>\n",
       "  </tbody>\n",
       "</table>\n",
       "</div>"
      ],
      "text/plain": [
       "      id  content_similarity  filename_similarity  size_score  \\\n",
       "0  id_96            0.147602             0.184916         0.0   \n",
       "1  id_58            0.160317             0.157782         0.0   \n",
       "2  id_20            0.091889             0.198847         0.0   \n",
       "3  id_24            0.094940             0.131173         0.0   \n",
       "\n",
       "   creation_date_score  modified_date_score  \n",
       "0                  0.0             0.202144  \n",
       "1                  0.0             0.207591  \n",
       "2                  0.0             0.184994  \n",
       "3                  0.0             0.202610  "
      ]
     },
     "execution_count": 11,
     "metadata": {},
     "output_type": "execute_result"
    }
   ],
   "source": [
    "\n",
    "# These are the names of the semantic/numeric spaces in the same order as in your index.spaces list\n",
    "space_names = [\n",
    "    \"content_similarity\",\n",
    "    \"filename_similarity\",\n",
    "    \"size_score\",\n",
    "    \"creation_date_score\",\n",
    "    \"modified_date_score\"\n",
    "]\n",
    "\n",
    "rows = []\n",
    "\n",
    "for entry in result.entries:\n",
    "    partial_scores = dict(zip(space_names, entry.metadata.partial_scores))\n",
    "    row = {\"id\": entry.id, **partial_scores}\n",
    "    rows.append(row)\n",
    "    \n",
    "df = pd.DataFrame(rows)\n",
    "df\n"
   ]
  },
  {
   "cell_type": "code",
   "execution_count": 5,
   "metadata": {},
   "outputs": [
    {
     "name": "stderr",
     "output_type": "stream",
     "text": [
      "Batches: 100%|██████████| 1/1 [00:00<00:00, 27.33it/s]\n",
      "Batches: 100%|██████████| 1/1 [00:00<00:00, 91.11it/s]"
     ]
    },
    {
     "name": "stdout",
     "output_type": "stream",
     "text": [
      "12:09:02 superlinked.framework.query.query_dag_evaluator INFO   evaluated query\n"
     ]
    },
    {
     "name": "stderr",
     "output_type": "stream",
     "text": [
      "\n"
     ]
    },
    {
     "name": "stdout",
     "output_type": "stream",
     "text": [
      "12:09:03 httpx INFO   HTTP Request: POST https://bad13d43-afc8-44b5-8b37-2fa1eb4f0236.eu-west-1-0.aws.cloud.qdrant.io:6333/collections/filesearch/points/query \"HTTP/1.1 200 OK\"\n",
      "12:09:03 superlinked.framework.dsl.executor.query.query_executor INFO   executed query\n",
      "{'content_query': 'cinema fashion', 'similar_content_weight': 1.0, 'filename_query': 'technical', 'similar_filename_weight': 1.0, 'limit': 5, 'select_param__': ['Content', 'File_Type', 'Tags', 'Filename', 'Path', 'Size_kB', 'Creation_Date', 'Last_Modified_Date'], 'min_size_kb': 1000.0, 'max_size_kb': 10000.0, 'min_creation_date': 1577833200, 'max_creation_date': 1735599600, 'min_modified_date': None, 'max_modified_date': 1751234400, 'filetype_include_all': None, 'filetype_include_any': ['pdf'], 'filetype_exclude': None, 'tags_include_all': None, 'tags_include_any': ['cinema', 'fashion'], 'tags_exclude': None, 'natural_query': None, 'system_prompt_param__': \"Extract search parameters from the user's natural language query about files.\\nGuidelines:\\n- Identify semantic queries about content or file name.\\n- Use file type and tags as categorical filters.\\n- Size in kilobytes may be specified as small/large or by value.\\n- Creation and modification dates may indicate recency.\\n- If no preference is mentioned for a field, use None.\\n- Examples:\\n  1. User query: 'Recent PDF files about fashion or sport' -> file_type: 'pdf', tags: ['fashion', 'sport'], prioritize modified_date.\\n  2. User query: 'Large Word documents about tennis' -> file_type: 'docx', content: 'tennis', size: high.\\n  3. User query: 'Old reports about cinema and cars' -> tags: ['cinema', 'cars'], prioritize old creation_date.\\n  4. User query: 'Documents mentioning basketball' -> content: 'basketball'\\n\", 'radius_param__': None, 'content_weight': 1.0, 'filename_weight': 0.8, 'size_weight': 0.5, 'creation_date_weight': 0.6, 'modified_date_weight': 1.0}\n"
     ]
    },
    {
     "data": {
      "text/html": [
       "<div>\n",
       "<style scoped>\n",
       "    .dataframe tbody tr th:only-of-type {\n",
       "        vertical-align: middle;\n",
       "    }\n",
       "\n",
       "    .dataframe tbody tr th {\n",
       "        vertical-align: top;\n",
       "    }\n",
       "\n",
       "    .dataframe thead th {\n",
       "        text-align: right;\n",
       "    }\n",
       "</style>\n",
       "<table border=\"1\" class=\"dataframe\">\n",
       "  <thead>\n",
       "    <tr style=\"text-align: right;\">\n",
       "      <th></th>\n",
       "      <th>Content</th>\n",
       "      <th>File_Type</th>\n",
       "      <th>Tags</th>\n",
       "      <th>Filename</th>\n",
       "      <th>Path</th>\n",
       "      <th>Size_kB</th>\n",
       "      <th>Creation_Date</th>\n",
       "      <th>Last_Modified_Date</th>\n",
       "      <th>id</th>\n",
       "      <th>similarity_score</th>\n",
       "    </tr>\n",
       "  </thead>\n",
       "  <tbody>\n",
       "    <tr>\n",
       "      <th>0</th>\n",
       "      <td>Model dress dress trend designer designer. Ten...</td>\n",
       "      <td>[pdf]</td>\n",
       "      <td>[fashion, sport]</td>\n",
       "      <td>dress.pdf</td>\n",
       "      <td>/cause/total/third/dress.pdf</td>\n",
       "      <td>6343.0</td>\n",
       "      <td>21/07/2023</td>\n",
       "      <td>05/10/2024</td>\n",
       "      <td>id_56</td>\n",
       "      <td>0.591507</td>\n",
       "    </tr>\n",
       "    <tr>\n",
       "      <th>1</th>\n",
       "      <td>Trend model dress trend model dress designer r...</td>\n",
       "      <td>[pdf]</td>\n",
       "      <td>[fashion]</td>\n",
       "      <td>trend.pdf</td>\n",
       "      <td>/seat/sometimes/painting/trend.pdf</td>\n",
       "      <td>1415.0</td>\n",
       "      <td>22/03/2020</td>\n",
       "      <td>30/06/2022</td>\n",
       "      <td>id_89</td>\n",
       "      <td>0.564794</td>\n",
       "    </tr>\n",
       "    <tr>\n",
       "      <th>2</th>\n",
       "      <td>Designer runway designer model model runway ru...</td>\n",
       "      <td>[pdf]</td>\n",
       "      <td>[fashion, cars, cinema]</td>\n",
       "      <td>runway.pdf</td>\n",
       "      <td>/realize/dog/increase/runway.pdf</td>\n",
       "      <td>9775.0</td>\n",
       "      <td>14/10/2021</td>\n",
       "      <td>27/03/2023</td>\n",
       "      <td>id_91</td>\n",
       "      <td>0.546632</td>\n",
       "    </tr>\n",
       "  </tbody>\n",
       "</table>\n",
       "</div>"
      ],
      "text/plain": [
       "                                             Content File_Type  \\\n",
       "0  Model dress dress trend designer designer. Ten...     [pdf]   \n",
       "1  Trend model dress trend model dress designer r...     [pdf]   \n",
       "2  Designer runway designer model model runway ru...     [pdf]   \n",
       "\n",
       "                      Tags    Filename                                Path  \\\n",
       "0         [fashion, sport]   dress.pdf        /cause/total/third/dress.pdf   \n",
       "1                [fashion]   trend.pdf  /seat/sometimes/painting/trend.pdf   \n",
       "2  [fashion, cars, cinema]  runway.pdf    /realize/dog/increase/runway.pdf   \n",
       "\n",
       "   Size_kB Creation_Date Last_Modified_Date     id  similarity_score  \n",
       "0   6343.0    21/07/2023         05/10/2024  id_56          0.591507  \n",
       "1   1415.0    22/03/2020         30/06/2022  id_89          0.564794  \n",
       "2   9775.0    14/10/2021         27/03/2023  id_91          0.546632  "
      ]
     },
     "execution_count": 5,
     "metadata": {},
     "output_type": "execute_result"
    }
   ],
   "source": [
    "from datetime import datetime\n",
    "import pandas as pd\n",
    "\n",
    "def date_to_unix(date_str):\n",
    "    if date_str is None:\n",
    "        return None\n",
    "    return int(datetime.strptime(date_str, \"%d/%m/%Y\").timestamp())\n",
    "\n",
    "# Define your parameters with human-readable date strings or None\n",
    "params = {\n",
    "    # Text similarity inputs\n",
    "    \"content_query\": \"cinema fashion\",\n",
    "    \"filename_query\": \"technical\",\n",
    "\n",
    "    # Weights for semantic spaces (matching what's in query.weights)\n",
    "    \"content_weight\": 1.0,\n",
    "    \"filename_weight\": 0.8,\n",
    "    \"size_weight\": 0.5,\n",
    "    \"creation_date_weight\": 0.6,\n",
    "    \"modified_date_weight\": 1.0,\n",
    "\n",
    "    # Weights for similarity matching\n",
    "    \"similar_content_weight\": 1.0,\n",
    "    \"similar_filename_weight\": 1.0,\n",
    "\n",
    "    # Size filters (in kilobytes)\n",
    "    \"min_size_kb\": 1000,\n",
    "    \"max_size_kb\": 10000,\n",
    "\n",
    "    # Date filters (input as \"dd/mm/yyyy\" strings or None)\n",
    "    \"min_creation_date\": date_to_unix(\"01/01/2020\"),\n",
    "    \"max_creation_date\": date_to_unix(\"31/12/2024\"),\n",
    "    \"min_modified_date\": date_to_unix(None),  # No lower bound\n",
    "    \"max_modified_date\": date_to_unix(\"30/06/2025\"),\n",
    "\n",
    "    # Categorical filters (must match query.py)\n",
    "    \"filetype_include_any\": [\"pdf\"],\n",
    "    \"tags_include_any\": [\"cinema\", \"fashion\"],\n",
    "\n",
    "    # Result limit\n",
    "    \"limit\": 5,\n",
    "}\n",
    "\n",
    "# Run the query\n",
    "result = app.query(query, **params)\n",
    "\n",
    "# Inspect parameters used\n",
    "print(result.metadata.search_params)\n",
    "\n",
    "# Convert to pandas DataFrame\n",
    "df = sl.PandasConverter.to_pandas(result)\n",
    "\n",
    "# Convert Unix timestamps in the DataFrame to dd/mm/yyyy strings for display\n",
    "df[\"Creation_Date\"] = pd.to_datetime(df[\"Creation_Date\"], unit=\"s\").dt.strftime(\"%d/%m/%Y\")\n",
    "df[\"Last_Modified_Date\"] = pd.to_datetime(df[\"Last_Modified_Date\"], unit=\"s\").dt.strftime(\"%d/%m/%Y\")\n",
    "\n",
    "df\n"
   ]
  },
  {
   "cell_type": "code",
   "execution_count": null,
   "metadata": {},
   "outputs": [],
   "source": [
    "print(df.columns)\n",
    "print(df.head())"
   ]
  },
  {
   "cell_type": "code",
   "execution_count": 6,
   "metadata": {},
   "outputs": [
    {
     "data": {
      "text/html": [
       "<div>\n",
       "<style scoped>\n",
       "    .dataframe tbody tr th:only-of-type {\n",
       "        vertical-align: middle;\n",
       "    }\n",
       "\n",
       "    .dataframe tbody tr th {\n",
       "        vertical-align: top;\n",
       "    }\n",
       "\n",
       "    .dataframe thead th {\n",
       "        text-align: right;\n",
       "    }\n",
       "</style>\n",
       "<table border=\"1\" class=\"dataframe\">\n",
       "  <thead>\n",
       "    <tr style=\"text-align: right;\">\n",
       "      <th></th>\n",
       "      <th>id</th>\n",
       "      <th>content_similarity</th>\n",
       "      <th>filename_similarity</th>\n",
       "      <th>size_score</th>\n",
       "      <th>creation_date_score</th>\n",
       "      <th>modified_date_score</th>\n",
       "    </tr>\n",
       "  </thead>\n",
       "  <tbody>\n",
       "    <tr>\n",
       "      <th>0</th>\n",
       "      <td>id_56</td>\n",
       "      <td>0.101450</td>\n",
       "      <td>0.019671</td>\n",
       "      <td>0.108949</td>\n",
       "      <td>0.130219</td>\n",
       "      <td>0.231218</td>\n",
       "    </tr>\n",
       "    <tr>\n",
       "      <th>1</th>\n",
       "      <td>id_89</td>\n",
       "      <td>0.087603</td>\n",
       "      <td>0.041555</td>\n",
       "      <td>0.123237</td>\n",
       "      <td>0.106346</td>\n",
       "      <td>0.206054</td>\n",
       "    </tr>\n",
       "    <tr>\n",
       "      <th>2</th>\n",
       "      <td>id_91</td>\n",
       "      <td>0.081065</td>\n",
       "      <td>0.044035</td>\n",
       "      <td>0.089245</td>\n",
       "      <td>0.118164</td>\n",
       "      <td>0.214122</td>\n",
       "    </tr>\n",
       "  </tbody>\n",
       "</table>\n",
       "</div>"
      ],
      "text/plain": [
       "      id  content_similarity  filename_similarity  size_score  \\\n",
       "0  id_56            0.101450             0.019671    0.108949   \n",
       "1  id_89            0.087603             0.041555    0.123237   \n",
       "2  id_91            0.081065             0.044035    0.089245   \n",
       "\n",
       "   creation_date_score  modified_date_score  \n",
       "0             0.130219             0.231218  \n",
       "1             0.106346             0.206054  \n",
       "2             0.118164             0.214122  "
      ]
     },
     "execution_count": 6,
     "metadata": {},
     "output_type": "execute_result"
    }
   ],
   "source": [
    "\n",
    "# These are the names of the semantic/numeric spaces in the same order as in your index.spaces list\n",
    "space_names = [\n",
    "    \"content_similarity\",\n",
    "    \"filename_similarity\",\n",
    "    \"size_score\",\n",
    "    \"creation_date_score\",\n",
    "    \"modified_date_score\"\n",
    "]\n",
    "\n",
    "rows = []\n",
    "\n",
    "for entry in result.entries:\n",
    "    partial_scores = dict(zip(space_names, entry.metadata.partial_scores))\n",
    "    row = {\"id\": entry.id, **partial_scores}\n",
    "    rows.append(row)\n",
    "    \n",
    "df = pd.DataFrame(rows)\n",
    "df\n"
   ]
  }
 ],
 "metadata": {
  "kernelspec": {
   "display_name": ".venv",
   "language": "python",
   "name": "python3"
  },
  "language_info": {
   "codemirror_mode": {
    "name": "ipython",
    "version": 3
   },
   "file_extension": ".py",
   "mimetype": "text/x-python",
   "name": "python",
   "nbconvert_exporter": "python",
   "pygments_lexer": "ipython3",
   "version": "3.12.3"
  }
 },
 "nbformat": 4,
 "nbformat_minor": 4
}
