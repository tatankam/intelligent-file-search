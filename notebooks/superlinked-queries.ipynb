{
 "cells": [
  {
   "cell_type": "markdown",
   "metadata": {},
   "source": [
    "Run this notebook in the same virtual environment with superlinked server\n",
    "to ensure the same version of `superlinked` framework."
   ]
  },
  {
   "cell_type": "code",
   "execution_count": 1,
   "metadata": {},
   "outputs": [
    {
     "name": "stdout",
     "output_type": "stream",
     "text": [
      "superlinked==28.8.2\n",
      "superlinked-server==1.34.0\n"
     ]
    }
   ],
   "source": [
    "!pip freeze | grep superlinked"
   ]
  },
  {
   "cell_type": "code",
   "execution_count": 2,
   "metadata": {},
   "outputs": [
    {
     "name": "stdout",
     "output_type": "stream",
     "text": [
      "project_dir is added to sys.path\n"
     ]
    }
   ],
   "source": [
    "from pathlib import Path\n",
    "import sys\n",
    "\n",
    "# Determine current working directory\n",
    "cwd = Path.cwd()\n",
    "\n",
    "# Adapt logic for your specific project structure\n",
    "if cwd.name == \"intelligent-file-search\":\n",
    "    project_dir = cwd\n",
    "elif cwd.name == \"notebooks\":\n",
    "    project_dir = cwd.parent\n",
    "else:\n",
    "    # fallback (e.g., if inside a subfolder deeper in notebooks or dataset)\n",
    "    project_dir = cwd\n",
    "    while project_dir.name != \"intelligent-file-search\" and project_dir != project_dir.parent:\n",
    "        project_dir = project_dir.parent\n",
    "\n",
    "superlinked_app_dir = project_dir / \"superlinked_app\"\n",
    "assert superlinked_app_dir.exists(), (\n",
    "    f\"{superlinked_app_dir} does not exist\\n\"\n",
    "    \"Are you sure you are in or below the intelligent-file-search directory?\"\n",
    ")\n",
    "\n",
    "if str(project_dir) not in sys.path:\n",
    "    sys.path.append(str(project_dir))\n",
    "    print(\"project_dir is added to sys.path\")\n",
    "else:\n",
    "    print(\"project_dir is already in sys.path\")\n"
   ]
  },
  {
   "cell_type": "code",
   "execution_count": 3,
   "metadata": {},
   "outputs": [
    {
     "name": "stderr",
     "output_type": "stream",
     "text": [
      "/home/biso/development/my_projects/.venv/lib/python3.12/site-packages/tqdm/auto.py:21: TqdmWarning: IProgress not found. Please update jupyter and ipywidgets. See https://ipywidgets.readthedocs.io/en/stable/user_install.html\n",
      "  from .autonotebook import tqdm as notebook_tqdm\n"
     ]
    },
    {
     "name": "stdout",
     "output_type": "stream",
     "text": [
      "/home/biso/development/my_projects/varie/intelligent-file-search/dataset/categories.json\n",
      "15:38:55 superlinked.framework.dsl.index.index INFO   initialized index\n"
     ]
    }
   ],
   "source": [
    "from superlinked import framework as sl\n",
    "\n",
    "from superlinked_app.index import index, file_schema\n",
    "from superlinked_app.query import query\n",
    "from superlinked_app.api import vector_database\n",
    "\n",
    "import pandas as pd"
   ]
  },
  {
   "cell_type": "code",
   "execution_count": 4,
   "metadata": {},
   "outputs": [
    {
     "name": "stdout",
     "output_type": "stream",
     "text": [
      "15:39:01 httpx INFO   HTTP Request: GET https://bad13d43-afc8-44b5-8b37-2fa1eb4f0236.eu-west-1-0.aws.cloud.qdrant.io:6333 \"HTTP/1.1 200 OK\"\n",
      "15:39:01 httpx INFO   HTTP Request: GET https://bad13d43-afc8-44b5-8b37-2fa1eb4f0236.eu-west-1-0.aws.cloud.qdrant.io:6333/collections/default/exists \"HTTP/1.1 200 OK\"\n",
      "15:39:02 httpx INFO   HTTP Request: GET https://bad13d43-afc8-44b5-8b37-2fa1eb4f0236.eu-west-1-0.aws.cloud.qdrant.io:6333/collections/default \"HTTP/1.1 200 OK\"\n",
      "15:39:02 httpx INFO   HTTP Request: PUT https://bad13d43-afc8-44b5-8b37-2fa1eb4f0236.eu-west-1-0.aws.cloud.qdrant.io:6333/collections/default/index?wait=true \"HTTP/1.1 200 OK\"\n",
      "15:39:02 httpx INFO   HTTP Request: PUT https://bad13d43-afc8-44b5-8b37-2fa1eb4f0236.eu-west-1-0.aws.cloud.qdrant.io:6333/collections/default/index?wait=true \"HTTP/1.1 200 OK\"\n",
      "15:39:02 httpx INFO   HTTP Request: PUT https://bad13d43-afc8-44b5-8b37-2fa1eb4f0236.eu-west-1-0.aws.cloud.qdrant.io:6333/collections/default/index?wait=true \"HTTP/1.1 200 OK\"\n",
      "15:39:03 httpx INFO   HTTP Request: PUT https://bad13d43-afc8-44b5-8b37-2fa1eb4f0236.eu-west-1-0.aws.cloud.qdrant.io:6333/collections/default/index?wait=true \"HTTP/1.1 200 OK\"\n",
      "15:39:03 httpx INFO   HTTP Request: PUT https://bad13d43-afc8-44b5-8b37-2fa1eb4f0236.eu-west-1-0.aws.cloud.qdrant.io:6333/collections/default/index?wait=true \"HTTP/1.1 200 OK\"\n",
      "15:39:03 httpx INFO   HTTP Request: PUT https://bad13d43-afc8-44b5-8b37-2fa1eb4f0236.eu-west-1-0.aws.cloud.qdrant.io:6333/collections/default/index?wait=true \"HTTP/1.1 200 OK\"\n",
      "15:39:03 httpx INFO   HTTP Request: PUT https://bad13d43-afc8-44b5-8b37-2fa1eb4f0236.eu-west-1-0.aws.cloud.qdrant.io:6333/collections/default/index?wait=true \"HTTP/1.1 200 OK\"\n",
      "15:39:03 httpx INFO   HTTP Request: PUT https://bad13d43-afc8-44b5-8b37-2fa1eb4f0236.eu-west-1-0.aws.cloud.qdrant.io:6333/collections/default/index?wait=true \"HTTP/1.1 200 OK\"\n",
      "15:39:03 httpx INFO   HTTP Request: PUT https://bad13d43-afc8-44b5-8b37-2fa1eb4f0236.eu-west-1-0.aws.cloud.qdrant.io:6333/collections/default/index?wait=true \"HTTP/1.1 200 OK\"\n",
      "15:39:03 superlinked.framework.query.query_dag_evaluator INFO   initialized query dag\n",
      "15:39:03 superlinked.framework.online.online_dag_evaluator INFO   initialized entity dag\n",
      "15:39:03 superlinked.framework.dsl.executor.interactive.interactive_executor INFO   started interactive app\n"
     ]
    }
   ],
   "source": [
    "source = sl.InteractiveSource(file_schema)\n",
    "executor = sl.InteractiveExecutor(\n",
    "    sources=[source],\n",
    "    indices=[index],\n",
    "    vector_database=vector_database,\n",
    ")\n",
    "app = executor.run()"
   ]
  },
  {
   "cell_type": "code",
   "execution_count": 18,
   "metadata": {},
   "outputs": [
    {
     "name": "stdout",
     "output_type": "stream",
     "text": [
      "16:02:59 httpx INFO   HTTP Request: POST https://openrouter.ai/api/v1/chat/completions \"HTTP/1.1 200 OK\"\n",
      "16:03:05 httpx INFO   HTTP Request: POST https://openrouter.ai/api/v1/chat/completions \"HTTP/1.1 200 OK\"\n",
      "16:03:09 httpx INFO   HTTP Request: POST https://openrouter.ai/api/v1/chat/completions \"HTTP/1.1 200 OK\"\n",
      "16:03:11 superlinked.framework.common.nlq.open_ai WARNING   LLM validation followup failed after 3 retries. Try increasing SUPERLINKED_NLQ_MAX_RETRIES.\n"
     ]
    },
    {
     "ename": "QueryException",
     "evalue": "Error executing natural language query: {'message': 'Internal Server Error', 'code': 500}",
     "output_type": "error",
     "traceback": [
      "\u001b[31m---------------------------------------------------------------------------\u001b[39m",
      "\u001b[31mValueError\u001b[39m                                Traceback (most recent call last)",
      "\u001b[36mFile \u001b[39m\u001b[32m~/development/my_projects/.venv/lib/python3.12/site-packages/instructor/retry.py:258\u001b[39m, in \u001b[36mretry_async\u001b[39m\u001b[34m(func, response_model, args, kwargs, context, max_retries, strict, mode, hooks)\u001b[39m\n\u001b[32m    254\u001b[39m     response = update_total_usage(\n\u001b[32m    255\u001b[39m         response=response, total_usage=total_usage\n\u001b[32m    256\u001b[39m     )\n\u001b[32m--> \u001b[39m\u001b[32m258\u001b[39m     \u001b[38;5;28;01mreturn\u001b[39;00m \u001b[38;5;28;01mawait\u001b[39;00m process_response_async(\n\u001b[32m    259\u001b[39m         response=response,\n\u001b[32m    260\u001b[39m         response_model=response_model,\n\u001b[32m    261\u001b[39m         validation_context=context,\n\u001b[32m    262\u001b[39m         strict=strict,\n\u001b[32m    263\u001b[39m         mode=mode,\n\u001b[32m    264\u001b[39m         stream=stream,\n\u001b[32m    265\u001b[39m     )\n\u001b[32m    266\u001b[39m \u001b[38;5;28;01mexcept\u001b[39;00m (\n\u001b[32m    267\u001b[39m     ValidationError,\n\u001b[32m    268\u001b[39m     JSONDecodeError,\n\u001b[32m    269\u001b[39m     AsyncValidationError,\n\u001b[32m    270\u001b[39m ) \u001b[38;5;28;01mas\u001b[39;00m e:\n",
      "\u001b[36mFile \u001b[39m\u001b[32m~/development/my_projects/.venv/lib/python3.12/site-packages/instructor/process_response.py:95\u001b[39m, in \u001b[36mprocess_response_async\u001b[39m\u001b[34m(response, response_model, stream, validation_context, strict, mode)\u001b[39m\n\u001b[32m     93\u001b[39m     \u001b[38;5;28;01mreturn\u001b[39;00m model\n\u001b[32m---> \u001b[39m\u001b[32m95\u001b[39m model = \u001b[43mresponse_model\u001b[49m\u001b[43m.\u001b[49m\u001b[43mfrom_response\u001b[49m\u001b[43m(\u001b[49m\n\u001b[32m     96\u001b[39m \u001b[43m    \u001b[49m\u001b[43mresponse\u001b[49m\u001b[43m,\u001b[49m\n\u001b[32m     97\u001b[39m \u001b[43m    \u001b[49m\u001b[43mvalidation_context\u001b[49m\u001b[43m=\u001b[49m\u001b[43mvalidation_context\u001b[49m\u001b[43m,\u001b[49m\n\u001b[32m     98\u001b[39m \u001b[43m    \u001b[49m\u001b[43mstrict\u001b[49m\u001b[43m=\u001b[49m\u001b[43mstrict\u001b[49m\u001b[43m,\u001b[49m\n\u001b[32m     99\u001b[39m \u001b[43m    \u001b[49m\u001b[43mmode\u001b[49m\u001b[43m=\u001b[49m\u001b[43mmode\u001b[49m\u001b[43m,\u001b[49m\n\u001b[32m    100\u001b[39m \u001b[43m\u001b[49m\u001b[43m)\u001b[49m\n\u001b[32m    102\u001b[39m \u001b[38;5;66;03m# ? This really hints at the fact that we need a better way of\u001b[39;00m\n\u001b[32m    103\u001b[39m \u001b[38;5;66;03m# ? attaching usage data and the raw response to the model we return.\u001b[39;00m\n",
      "\u001b[36mFile \u001b[39m\u001b[32m~/development/my_projects/.venv/lib/python3.12/site-packages/instructor/function_calls.py:243\u001b[39m, in \u001b[36mOpenAISchema.from_response\u001b[39m\u001b[34m(cls, completion, validation_context, strict, mode)\u001b[39m\n\u001b[32m    242\u001b[39m \u001b[38;5;28;01mif\u001b[39;00m \u001b[38;5;28mhasattr\u001b[39m(completion, \u001b[33m\"\u001b[39m\u001b[33merror\u001b[39m\u001b[33m\"\u001b[39m):\n\u001b[32m--> \u001b[39m\u001b[32m243\u001b[39m     \u001b[38;5;28;01mraise\u001b[39;00m \u001b[38;5;167;01mValueError\u001b[39;00m(completion.error)\n\u001b[32m    245\u001b[39m \u001b[38;5;28;01mraise\u001b[39;00m \u001b[38;5;167;01mValueError\u001b[39;00m(\u001b[33m\"\u001b[39m\u001b[33mNo completion choices found\u001b[39m\u001b[33m\"\u001b[39m)\n",
      "\u001b[31mValueError\u001b[39m: {'message': 'Internal Server Error', 'code': 500}",
      "\nThe above exception was the direct cause of the following exception:\n",
      "\u001b[31mRetryError\u001b[39m                                Traceback (most recent call last)",
      "\u001b[36mFile \u001b[39m\u001b[32m~/development/my_projects/.venv/lib/python3.12/site-packages/instructor/retry.py:247\u001b[39m, in \u001b[36mretry_async\u001b[39m\u001b[34m(func, response_model, args, kwargs, context, max_retries, strict, mode, hooks)\u001b[39m\n\u001b[32m    246\u001b[39m response = \u001b[38;5;28;01mNone\u001b[39;00m\n\u001b[32m--> \u001b[39m\u001b[32m247\u001b[39m \u001b[38;5;28;01masync\u001b[39;00m \u001b[38;5;28;01mfor\u001b[39;00m attempt \u001b[38;5;129;01min\u001b[39;00m max_retries:\n\u001b[32m    248\u001b[39m     logger.debug(\u001b[33mf\u001b[39m\u001b[33m\"\u001b[39m\u001b[33mRetrying, attempt: \u001b[39m\u001b[38;5;132;01m{\u001b[39;00mattempt.retry_state.attempt_number\u001b[38;5;132;01m}\u001b[39;00m\u001b[33m\"\u001b[39m)\n",
      "\u001b[36mFile \u001b[39m\u001b[32m~/development/my_projects/.venv/lib/python3.12/site-packages/tenacity/asyncio/__init__.py:166\u001b[39m, in \u001b[36mAsyncRetrying.__anext__\u001b[39m\u001b[34m(self)\u001b[39m\n\u001b[32m    165\u001b[39m \u001b[38;5;28;01mwhile\u001b[39;00m \u001b[38;5;28;01mTrue\u001b[39;00m:\n\u001b[32m--> \u001b[39m\u001b[32m166\u001b[39m     do = \u001b[38;5;28;01mawait\u001b[39;00m \u001b[38;5;28mself\u001b[39m.iter(retry_state=\u001b[38;5;28mself\u001b[39m._retry_state)\n\u001b[32m    167\u001b[39m     \u001b[38;5;28;01mif\u001b[39;00m do \u001b[38;5;129;01mis\u001b[39;00m \u001b[38;5;28;01mNone\u001b[39;00m:\n",
      "\u001b[36mFile \u001b[39m\u001b[32m~/development/my_projects/.venv/lib/python3.12/site-packages/tenacity/asyncio/__init__.py:153\u001b[39m, in \u001b[36mAsyncRetrying.iter\u001b[39m\u001b[34m(self, retry_state)\u001b[39m\n\u001b[32m    152\u001b[39m \u001b[38;5;28;01mfor\u001b[39;00m action \u001b[38;5;129;01min\u001b[39;00m \u001b[38;5;28mself\u001b[39m.iter_state.actions:\n\u001b[32m--> \u001b[39m\u001b[32m153\u001b[39m     result = \u001b[38;5;28;01mawait\u001b[39;00m action(retry_state)\n\u001b[32m    154\u001b[39m \u001b[38;5;28;01mreturn\u001b[39;00m result\n",
      "\u001b[36mFile \u001b[39m\u001b[32m~/development/my_projects/.venv/lib/python3.12/site-packages/tenacity/_utils.py:99\u001b[39m, in \u001b[36mwrap_to_async_func.<locals>.inner\u001b[39m\u001b[34m(*args, **kwargs)\u001b[39m\n\u001b[32m     98\u001b[39m \u001b[38;5;28;01masync\u001b[39;00m \u001b[38;5;28;01mdef\u001b[39;00m\u001b[38;5;250m \u001b[39m\u001b[34minner\u001b[39m(*args: typing.Any, **kwargs: typing.Any) -> typing.Any:\n\u001b[32m---> \u001b[39m\u001b[32m99\u001b[39m     \u001b[38;5;28;01mreturn\u001b[39;00m \u001b[43mcall\u001b[49m\u001b[43m(\u001b[49m\u001b[43m*\u001b[49m\u001b[43margs\u001b[49m\u001b[43m,\u001b[49m\u001b[43m \u001b[49m\u001b[43m*\u001b[49m\u001b[43m*\u001b[49m\u001b[43mkwargs\u001b[49m\u001b[43m)\u001b[49m\n",
      "\u001b[36mFile \u001b[39m\u001b[32m~/development/my_projects/.venv/lib/python3.12/site-packages/tenacity/__init__.py:421\u001b[39m, in \u001b[36mBaseRetrying._post_stop_check_actions.<locals>.exc_check\u001b[39m\u001b[34m(rs)\u001b[39m\n\u001b[32m    420\u001b[39m     \u001b[38;5;28;01mraise\u001b[39;00m retry_exc.reraise()\n\u001b[32m--> \u001b[39m\u001b[32m421\u001b[39m \u001b[38;5;28;01mraise\u001b[39;00m retry_exc \u001b[38;5;28;01mfrom\u001b[39;00m\u001b[38;5;250m \u001b[39m\u001b[34;01mfut\u001b[39;00m\u001b[34;01m.\u001b[39;00m\u001b[34;01mexception\u001b[39;00m()\n",
      "\u001b[31mRetryError\u001b[39m: RetryError[<Future at 0x718957324620 state=finished raised ValueError>]",
      "\nThe above exception was the direct cause of the following exception:\n",
      "\u001b[31mInstructorRetryException\u001b[39m                  Traceback (most recent call last)",
      "\u001b[36mFile \u001b[39m\u001b[32m~/development/my_projects/.venv/lib/python3.12/site-packages/superlinked/framework/dsl/query/nlq/nlq_handler.py:91\u001b[39m, in \u001b[36mNLQHandler._execute_query\u001b[39m\u001b[34m(self, query, instructor_prompt, model_class)\u001b[39m\n\u001b[32m     90\u001b[39m client = OpenAIClient(\u001b[38;5;28mself\u001b[39m.__client_config)\n\u001b[32m---> \u001b[39m\u001b[32m91\u001b[39m result = \u001b[38;5;28;01mawait\u001b[39;00m client.query(query, instructor_prompt, model_class)\n\u001b[32m     92\u001b[39m \u001b[38;5;28;01mreturn\u001b[39;00m result\n",
      "\u001b[36mFile \u001b[39m\u001b[32m~/development/my_projects/.venv/lib/python3.12/site-packages/superlinked/framework/common/nlq/open_ai.py:112\u001b[39m, in \u001b[36mOpenAIClient.query\u001b[39m\u001b[34m(self, prompt, instructor_prompt, response_model)\u001b[39m\n\u001b[32m    108\u001b[39m         logger.warning(\n\u001b[32m    109\u001b[39m             \u001b[33mf\u001b[39m\u001b[33m\"\u001b[39m\u001b[33mLLM validation followup failed after \u001b[39m\u001b[38;5;132;01m{\u001b[39;00mmax_retries\u001b[38;5;132;01m}\u001b[39;00m\u001b[33m retries.\u001b[39m\u001b[33m\"\u001b[39m\n\u001b[32m    110\u001b[39m             \u001b[33m\"\u001b[39m\u001b[33m Try increasing SUPERLINKED_NLQ_MAX_RETRIES.\u001b[39m\u001b[33m\"\u001b[39m\n\u001b[32m    111\u001b[39m         )\n\u001b[32m--> \u001b[39m\u001b[32m112\u001b[39m         \u001b[38;5;28;01mraise\u001b[39;00m e\n\u001b[32m    113\u001b[39m \u001b[38;5;28;01mreturn\u001b[39;00m response.model_dump()\n",
      "\u001b[36mFile \u001b[39m\u001b[32m~/development/my_projects/.venv/lib/python3.12/site-packages/superlinked/framework/common/nlq/open_ai.py:97\u001b[39m, in \u001b[36mOpenAIClient.query\u001b[39m\u001b[34m(self, prompt, instructor_prompt, response_model)\u001b[39m\n\u001b[32m     96\u001b[39m \u001b[38;5;28;01mtry\u001b[39;00m:\n\u001b[32m---> \u001b[39m\u001b[32m97\u001b[39m     response = \u001b[38;5;28;01mawait\u001b[39;00m \u001b[38;5;28mself\u001b[39m._client.chat.completions.create(\n\u001b[32m     98\u001b[39m         model=\u001b[38;5;28mself\u001b[39m._openai_model,\n\u001b[32m     99\u001b[39m         response_model=response_model,\n\u001b[32m    100\u001b[39m         max_retries=max_retries,\n\u001b[32m    101\u001b[39m         messages=[\n\u001b[32m    102\u001b[39m             {\u001b[33m\"\u001b[39m\u001b[33mrole\u001b[39m\u001b[33m\"\u001b[39m: \u001b[33m\"\u001b[39m\u001b[33msystem\u001b[39m\u001b[33m\"\u001b[39m, \u001b[33m\"\u001b[39m\u001b[33mcontent\u001b[39m\u001b[33m\"\u001b[39m: instructor_prompt},\n\u001b[32m    103\u001b[39m             {\u001b[33m\"\u001b[39m\u001b[33mrole\u001b[39m\u001b[33m\"\u001b[39m: \u001b[33m\"\u001b[39m\u001b[33muser\u001b[39m\u001b[33m\"\u001b[39m, \u001b[33m\"\u001b[39m\u001b[33mcontent\u001b[39m\u001b[33m\"\u001b[39m: prompt},\n\u001b[32m    104\u001b[39m         ],\n\u001b[32m    105\u001b[39m         temperature=TEMPERATURE_VALUE,\n\u001b[32m    106\u001b[39m     )\n\u001b[32m    107\u001b[39m \u001b[38;5;28;01mexcept\u001b[39;00m InstructorRetryException \u001b[38;5;28;01mas\u001b[39;00m e:\n",
      "\u001b[36mFile \u001b[39m\u001b[32m~/development/my_projects/.venv/lib/python3.12/site-packages/instructor/client.py:606\u001b[39m, in \u001b[36mAsyncInstructor.create\u001b[39m\u001b[34m(self, response_model, messages, max_retries, validation_context, context, strict, **kwargs)\u001b[39m\n\u001b[32m    596\u001b[39m     \u001b[38;5;28;01mreturn\u001b[39;00m \u001b[38;5;28mself\u001b[39m.create_iterable(\n\u001b[32m    597\u001b[39m         messages=messages,\n\u001b[32m    598\u001b[39m         response_model=get_args(response_model)[\u001b[32m0\u001b[39m],\n\u001b[32m   (...)\u001b[39m\u001b[32m    603\u001b[39m         **kwargs,\n\u001b[32m    604\u001b[39m     )\n\u001b[32m--> \u001b[39m\u001b[32m606\u001b[39m \u001b[38;5;28;01mreturn\u001b[39;00m \u001b[38;5;28;01mawait\u001b[39;00m \u001b[38;5;28mself\u001b[39m.create_fn(\n\u001b[32m    607\u001b[39m     response_model=response_model,\n\u001b[32m    608\u001b[39m     validation_context=validation_context,\n\u001b[32m    609\u001b[39m     context=context,\n\u001b[32m    610\u001b[39m     max_retries=max_retries,\n\u001b[32m    611\u001b[39m     messages=messages,\n\u001b[32m    612\u001b[39m     strict=strict,\n\u001b[32m    613\u001b[39m     hooks=\u001b[38;5;28mself\u001b[39m.hooks,\n\u001b[32m    614\u001b[39m     **kwargs,\n\u001b[32m    615\u001b[39m )\n",
      "\u001b[36mFile \u001b[39m\u001b[32m~/development/my_projects/.venv/lib/python3.12/site-packages/instructor/patch.py:161\u001b[39m, in \u001b[36mpatch.<locals>.new_create_async\u001b[39m\u001b[34m(response_model, validation_context, context, max_retries, strict, hooks, *args, **kwargs)\u001b[39m\n\u001b[32m    159\u001b[39m new_kwargs = handle_templating(new_kwargs, mode=mode, context=context)\n\u001b[32m--> \u001b[39m\u001b[32m161\u001b[39m response = \u001b[38;5;28;01mawait\u001b[39;00m retry_async(\n\u001b[32m    162\u001b[39m     func=func,  \u001b[38;5;66;03m# type:ignore\u001b[39;00m\n\u001b[32m    163\u001b[39m     response_model=response_model,\n\u001b[32m    164\u001b[39m     context=context,\n\u001b[32m    165\u001b[39m     max_retries=max_retries,\n\u001b[32m    166\u001b[39m     args=args,\n\u001b[32m    167\u001b[39m     kwargs=new_kwargs,\n\u001b[32m    168\u001b[39m     strict=strict,\n\u001b[32m    169\u001b[39m     mode=mode,\n\u001b[32m    170\u001b[39m     hooks=hooks,\n\u001b[32m    171\u001b[39m )\n\u001b[32m    172\u001b[39m \u001b[38;5;28;01mreturn\u001b[39;00m response\n",
      "\u001b[36mFile \u001b[39m\u001b[32m~/development/my_projects/.venv/lib/python3.12/site-packages/instructor/retry.py:282\u001b[39m, in \u001b[36mretry_async\u001b[39m\u001b[34m(func, response_model, args, kwargs, context, max_retries, strict, mode, hooks)\u001b[39m\n\u001b[32m    281\u001b[39m logger.debug(\u001b[33mf\u001b[39m\u001b[33m\"\u001b[39m\u001b[33mRetry error: \u001b[39m\u001b[38;5;132;01m{\u001b[39;00me\u001b[38;5;132;01m}\u001b[39;00m\u001b[33m\"\u001b[39m)\n\u001b[32m--> \u001b[39m\u001b[32m282\u001b[39m \u001b[38;5;28;01mraise\u001b[39;00m InstructorRetryException(\n\u001b[32m    283\u001b[39m     e.last_attempt._exception,\n\u001b[32m    284\u001b[39m     last_completion=response,\n\u001b[32m    285\u001b[39m     n_attempts=attempt.retry_state.attempt_number,\n\u001b[32m    286\u001b[39m     \u001b[38;5;66;03m#! deprecate messages soon\u001b[39;00m\n\u001b[32m    287\u001b[39m     messages=extract_messages(\n\u001b[32m    288\u001b[39m         kwargs\n\u001b[32m    289\u001b[39m     ),  \u001b[38;5;66;03m# Use the optimized function instead of nested lookups\u001b[39;00m\n\u001b[32m    290\u001b[39m     create_kwargs=kwargs,\n\u001b[32m    291\u001b[39m     total_usage=total_usage,\n\u001b[32m    292\u001b[39m ) \u001b[38;5;28;01mfrom\u001b[39;00m\u001b[38;5;250m \u001b[39m\u001b[34;01me\u001b[39;00m\n",
      "\u001b[31mInstructorRetryException\u001b[39m: {'message': 'Internal Server Error', 'code': 500}",
      "\nThe above exception was the direct cause of the following exception:\n",
      "\u001b[31mQueryException\u001b[39m                            Traceback (most recent call last)",
      "\u001b[36mCell\u001b[39m\u001b[36m \u001b[39m\u001b[32mIn[18]\u001b[39m\u001b[32m, line 14\u001b[39m\n\u001b[32m      8\u001b[39m params = {\n\u001b[32m      9\u001b[39m     \u001b[33m\"\u001b[39m\u001b[33mnatural_query\u001b[39m\u001b[33m\"\u001b[39m: \u001b[33m\"\u001b[39m\u001b[33mRecent PDF files about fashion or sport\u001b[39m\u001b[33m\"\u001b[39m,\n\u001b[32m     10\u001b[39m     \u001b[33m\"\u001b[39m\u001b[33mlimit\u001b[39m\u001b[33m\"\u001b[39m: \u001b[32m5\u001b[39m,\n\u001b[32m     11\u001b[39m }\n\u001b[32m     13\u001b[39m \u001b[38;5;66;03m# Run the query with natural language interface\u001b[39;00m\n\u001b[32m---> \u001b[39m\u001b[32m14\u001b[39m result = \u001b[43mapp\u001b[49m\u001b[43m.\u001b[49m\u001b[43mquery\u001b[49m\u001b[43m(\u001b[49m\u001b[43mquery\u001b[49m\u001b[43m,\u001b[49m\u001b[43m \u001b[49m\u001b[43m*\u001b[49m\u001b[43m*\u001b[49m\u001b[43mparams\u001b[49m\u001b[43m)\u001b[49m\n\u001b[32m     16\u001b[39m \u001b[38;5;66;03m# Print the actual interpreted search parameters extracted by NLQ\u001b[39;00m\n\u001b[32m     17\u001b[39m \u001b[38;5;28mprint\u001b[39m(\u001b[33m\"\u001b[39m\u001b[33mSearch Parameters Parsed by NLQ:\u001b[39m\u001b[33m\"\u001b[39m)\n",
      "\u001b[36mFile \u001b[39m\u001b[32m<@beartype(superlinked.framework.dsl.query.query_mixin.QueryMixin.query) at 0x718986ec4fe0>:34\u001b[39m, in \u001b[36mquery\u001b[39m\u001b[34m(__beartype_object_187623408, __beartype_get_violation, __beartype_conf, __beartype_args_name_keywordable, __beartype_object_183236176, __beartype_check_meta, __beartype_func, *args, **kwargs)\u001b[39m\n",
      "\u001b[36mFile \u001b[39m\u001b[32m~/development/my_projects/.venv/lib/python3.12/site-packages/superlinked/framework/dsl/query/query_mixin.py:73\u001b[39m, in \u001b[36mQueryMixin.query\u001b[39m\u001b[34m(self, query_descriptor, **params)\u001b[39m\n\u001b[32m     59\u001b[39m \u001b[38;5;28;01mdef\u001b[39;00m\u001b[38;5;250m \u001b[39m\u001b[34mquery\u001b[39m(\u001b[38;5;28mself\u001b[39m, query_descriptor: QueryDescriptor, **params: Any) -> QueryResult:\n\u001b[32m     60\u001b[39m \u001b[38;5;250m    \u001b[39m\u001b[33;03m\"\"\"\u001b[39;00m\n\u001b[32m     61\u001b[39m \u001b[33;03m    Execute a query using the provided QueryDescriptor and additional parameters.\u001b[39;00m\n\u001b[32m     62\u001b[39m \n\u001b[32m   (...)\u001b[39m\u001b[32m     71\u001b[39m \u001b[33;03m        QueryException: If the query index is not found among the executor's indices.\u001b[39;00m\n\u001b[32m     72\u001b[39m \u001b[33;03m    \"\"\"\u001b[39;00m\n\u001b[32m---> \u001b[39m\u001b[32m73\u001b[39m     \u001b[38;5;28;01mreturn\u001b[39;00m \u001b[43mAsyncUtil\u001b[49m\u001b[43m.\u001b[49m\u001b[43mrun\u001b[49m\u001b[43m(\u001b[49m\u001b[38;5;28;43mself\u001b[39;49m\u001b[43m.\u001b[49m\u001b[43masync_query\u001b[49m\u001b[43m(\u001b[49m\u001b[43mquery_descriptor\u001b[49m\u001b[43m,\u001b[49m\u001b[43m \u001b[49m\u001b[43m*\u001b[49m\u001b[43m*\u001b[49m\u001b[43mparams\u001b[49m\u001b[43m)\u001b[49m\u001b[43m)\u001b[49m\n",
      "\u001b[36mFile \u001b[39m\u001b[32m~/development/my_projects/.venv/lib/python3.12/site-packages/superlinked/framework/common/util/async_util.py:35\u001b[39m, in \u001b[36mAsyncUtil.run\u001b[39m\u001b[34m(cls, coroutine)\u001b[39m\n\u001b[32m     33\u001b[39m loop = \u001b[38;5;28mcls\u001b[39m._get_loop()\n\u001b[32m     34\u001b[39m \u001b[38;5;28;01mif\u001b[39;00m loop \u001b[38;5;129;01mand\u001b[39;00m loop.is_running():\n\u001b[32m---> \u001b[39m\u001b[32m35\u001b[39m     \u001b[38;5;28;01mreturn\u001b[39;00m \u001b[38;5;28;43mcls\u001b[39;49m\u001b[43m.\u001b[49m\u001b[43m_handle_async_context\u001b[49m\u001b[43m(\u001b[49m\u001b[43mloop\u001b[49m\u001b[43m,\u001b[49m\u001b[43m \u001b[49m\u001b[43mcoroutine\u001b[49m\u001b[43m)\u001b[49m\n\u001b[32m     36\u001b[39m \u001b[38;5;28;01mreturn\u001b[39;00m \u001b[38;5;28mcls\u001b[39m._handle_sync_context(loop, coroutine)\n",
      "\u001b[36mFile \u001b[39m\u001b[32m~/development/my_projects/.venv/lib/python3.12/site-packages/superlinked/framework/common/util/async_util.py:58\u001b[39m, in \u001b[36mAsyncUtil._handle_async_context\u001b[39m\u001b[34m(cls, loop, coroutine)\u001b[39m\n\u001b[32m     56\u001b[39m     \u001b[38;5;28;01mif\u001b[39;00m \u001b[38;5;28mhasattr\u001b[39m(loop, NEST_ASYNCIO_ATTR) \u001b[38;5;129;01mand\u001b[39;00m loop._nest_asyncio_patched:\n\u001b[32m     57\u001b[39m         \u001b[38;5;28;01mreturn\u001b[39;00m asyncio.get_event_loop().run_until_complete(asyncio.gather(future))[\u001b[32m0\u001b[39m]\n\u001b[32m---> \u001b[39m\u001b[32m58\u001b[39m     \u001b[38;5;28;01mreturn\u001b[39;00m \u001b[43mloop\u001b[49m\u001b[43m.\u001b[49m\u001b[43mrun_until_complete\u001b[49m\u001b[43m(\u001b[49m\u001b[43mfuture\u001b[49m\u001b[43m)\u001b[49m\n\u001b[32m     59\u001b[39m \u001b[38;5;28;01mexcept\u001b[39;00m \u001b[38;5;167;01mRuntimeError\u001b[39;00m \u001b[38;5;28;01mas\u001b[39;00m e:\n\u001b[32m     60\u001b[39m     \u001b[38;5;28;01mif\u001b[39;00m \u001b[33m\"\u001b[39m\u001b[33mThis event loop is already running\u001b[39m\u001b[33m\"\u001b[39m \u001b[38;5;129;01min\u001b[39;00m \u001b[38;5;28mstr\u001b[39m(e):\n",
      "\u001b[36mFile \u001b[39m\u001b[32m~/development/my_projects/.venv/lib/python3.12/site-packages/nest_asyncio.py:98\u001b[39m, in \u001b[36m_patch_loop.<locals>.run_until_complete\u001b[39m\u001b[34m(self, future)\u001b[39m\n\u001b[32m     95\u001b[39m \u001b[38;5;28;01mif\u001b[39;00m \u001b[38;5;129;01mnot\u001b[39;00m f.done():\n\u001b[32m     96\u001b[39m     \u001b[38;5;28;01mraise\u001b[39;00m \u001b[38;5;167;01mRuntimeError\u001b[39;00m(\n\u001b[32m     97\u001b[39m         \u001b[33m'\u001b[39m\u001b[33mEvent loop stopped before Future completed.\u001b[39m\u001b[33m'\u001b[39m)\n\u001b[32m---> \u001b[39m\u001b[32m98\u001b[39m \u001b[38;5;28;01mreturn\u001b[39;00m \u001b[43mf\u001b[49m\u001b[43m.\u001b[49m\u001b[43mresult\u001b[49m\u001b[43m(\u001b[49m\u001b[43m)\u001b[49m\n",
      "\u001b[36mFile \u001b[39m\u001b[32m/usr/lib/python3.12/asyncio/futures.py:203\u001b[39m, in \u001b[36mFuture.result\u001b[39m\u001b[34m(self)\u001b[39m\n\u001b[32m    201\u001b[39m \u001b[38;5;28mself\u001b[39m.__log_traceback = \u001b[38;5;28;01mFalse\u001b[39;00m\n\u001b[32m    202\u001b[39m \u001b[38;5;28;01mif\u001b[39;00m \u001b[38;5;28mself\u001b[39m._exception \u001b[38;5;129;01mis\u001b[39;00m \u001b[38;5;129;01mnot\u001b[39;00m \u001b[38;5;28;01mNone\u001b[39;00m:\n\u001b[32m--> \u001b[39m\u001b[32m203\u001b[39m     \u001b[38;5;28;01mraise\u001b[39;00m \u001b[38;5;28mself\u001b[39m._exception.with_traceback(\u001b[38;5;28mself\u001b[39m._exception_tb)\n\u001b[32m    204\u001b[39m \u001b[38;5;28;01mreturn\u001b[39;00m \u001b[38;5;28mself\u001b[39m._result\n",
      "\u001b[36mFile \u001b[39m\u001b[32m/usr/lib/python3.12/asyncio/tasks.py:314\u001b[39m, in \u001b[36mTask.__step_run_and_handle_result\u001b[39m\u001b[34m(***failed resolving arguments***)\u001b[39m\n\u001b[32m    310\u001b[39m \u001b[38;5;28;01mtry\u001b[39;00m:\n\u001b[32m    311\u001b[39m     \u001b[38;5;28;01mif\u001b[39;00m exc \u001b[38;5;129;01mis\u001b[39;00m \u001b[38;5;28;01mNone\u001b[39;00m:\n\u001b[32m    312\u001b[39m         \u001b[38;5;66;03m# We use the `send` method directly, because coroutines\u001b[39;00m\n\u001b[32m    313\u001b[39m         \u001b[38;5;66;03m# don't have `__iter__` and `__next__` methods.\u001b[39;00m\n\u001b[32m--> \u001b[39m\u001b[32m314\u001b[39m         result = \u001b[43mcoro\u001b[49m\u001b[43m.\u001b[49m\u001b[43msend\u001b[49m\u001b[43m(\u001b[49m\u001b[38;5;28;43;01mNone\u001b[39;49;00m\u001b[43m)\u001b[49m\n\u001b[32m    315\u001b[39m     \u001b[38;5;28;01melse\u001b[39;00m:\n\u001b[32m    316\u001b[39m         result = coro.throw(exc)\n",
      "\u001b[36mFile \u001b[39m\u001b[32m<@beartype(superlinked.framework.dsl.query.query_mixin.QueryMixin.async_query) at 0x718986ec5080>:34\u001b[39m, in \u001b[36masync_query\u001b[39m\u001b[34m(__beartype_object_187623408, __beartype_get_violation, __beartype_conf, __beartype_args_name_keywordable, __beartype_object_183236176, __beartype_check_meta, __beartype_func, *args, **kwargs)\u001b[39m\n",
      "\u001b[36mFile \u001b[39m\u001b[32m~/development/my_projects/.venv/lib/python3.12/site-packages/superlinked/framework/dsl/query/query_mixin.py:78\u001b[39m, in \u001b[36mQueryMixin.async_query\u001b[39m\u001b[34m(self, query_descriptor, **params)\u001b[39m\n\u001b[32m     75\u001b[39m \u001b[38;5;28;01masync\u001b[39;00m \u001b[38;5;28;01mdef\u001b[39;00m\u001b[38;5;250m \u001b[39m\u001b[34masync_query\u001b[39m(\u001b[38;5;28mself\u001b[39m, query_descriptor: QueryDescriptor, **params: Any) -> QueryResult:\n\u001b[32m     76\u001b[39m     \u001b[38;5;28;01mif\u001b[39;00m query_vector_factory := \u001b[38;5;28mself\u001b[39m._query_vector_factory_by_index.get(query_descriptor.index):\n\u001b[32m     77\u001b[39m         \u001b[38;5;66;03m# 'self' is an App instance; MyPy can't infer the inheriting class.\u001b[39;00m\n\u001b[32m---> \u001b[39m\u001b[32m78\u001b[39m         query_result: QueryResult = \u001b[38;5;28;01mawait\u001b[39;00m QueryExecutor(\n\u001b[32m     79\u001b[39m             \u001b[38;5;28mself\u001b[39m, query_descriptor, query_vector_factory  \u001b[38;5;66;03m# type: ignore\u001b[39;00m\n\u001b[32m     80\u001b[39m         ).query(**params)\n\u001b[32m     81\u001b[39m         \u001b[38;5;28;01mreturn\u001b[39;00m \u001b[38;5;28mself\u001b[39m._query_result_converter.convert(query_result)\n\u001b[32m     83\u001b[39m     \u001b[38;5;28;01mraise\u001b[39;00m QueryException(\n\u001b[32m     84\u001b[39m         (\n\u001b[32m     85\u001b[39m             \u001b[33mf\u001b[39m\u001b[33m\"\u001b[39m\u001b[33mQuery index \u001b[39m\u001b[38;5;132;01m{\u001b[39;00mquery_descriptor.index\u001b[38;5;132;01m}\u001b[39;00m\u001b[33m is not amongst the executor\u001b[39m\u001b[33m'\u001b[39m\u001b[33ms indices: \u001b[39m\u001b[33m\"\u001b[39m,\n\u001b[32m     86\u001b[39m             \u001b[33mf\u001b[39m\u001b[33m\"\u001b[39m\u001b[33m \u001b[39m\u001b[38;5;132;01m{\u001b[39;00m\u001b[38;5;28mlist\u001b[39m(\u001b[38;5;28mself\u001b[39m._query_vector_factory_by_index.keys())\u001b[38;5;132;01m}\u001b[39;00m\u001b[33m\"\u001b[39m,\n\u001b[32m     87\u001b[39m         )\n\u001b[32m     88\u001b[39m     )\n",
      "\u001b[36mFile \u001b[39m\u001b[32m~/development/my_projects/.venv/lib/python3.12/site-packages/superlinked/framework/dsl/executor/query/query_executor.py:100\u001b[39m, in \u001b[36mQueryExecutor.query\u001b[39m\u001b[34m(self, **params)\u001b[39m\n\u001b[32m     87\u001b[39m \u001b[38;5;250m\u001b[39m\u001b[33;03m\"\"\"\u001b[39;00m\n\u001b[32m     88\u001b[39m \u001b[33;03mExecute a query with keyword parameters.\u001b[39;00m\n\u001b[32m     89\u001b[39m \n\u001b[32m   (...)\u001b[39m\u001b[32m     97\u001b[39m \u001b[33;03m    QueryException: If the query index is not amongst the executor's indices.\u001b[39;00m\n\u001b[32m     98\u001b[39m \u001b[33;03m\"\"\"\u001b[39;00m\n\u001b[32m     99\u001b[39m \u001b[38;5;28mself\u001b[39m.__check_executor_has_index()\n\u001b[32m--> \u001b[39m\u001b[32m100\u001b[39m query_descriptor: QueryDescriptor = \u001b[38;5;28;01mawait\u001b[39;00m QueryParamValueSetter.set_values(\u001b[38;5;28mself\u001b[39m._query_descriptor, params)\n\u001b[32m    101\u001b[39m knn_search_params: KNNSearchParams = \u001b[38;5;28;01mawait\u001b[39;00m \u001b[38;5;28mself\u001b[39m._produce_knn_search_params(query_descriptor)\n\u001b[32m    102\u001b[39m entities = \u001b[38;5;28;01mawait\u001b[39;00m \u001b[38;5;28mself\u001b[39m._knn_search(\n\u001b[32m    103\u001b[39m     knn_search_params,\n\u001b[32m    104\u001b[39m     query_descriptor,\n\u001b[32m    105\u001b[39m     knn_search_params.should_return_index_vector \u001b[38;5;129;01mor\u001b[39;00m query_descriptor.with_metadata,\n\u001b[32m    106\u001b[39m )\n",
      "\u001b[36mFile \u001b[39m\u001b[32m~/development/my_projects/.venv/lib/python3.12/site-packages/superlinked/framework/dsl/query/query_param_value_setter.py:39\u001b[39m, in \u001b[36mQueryParamValueSetter.set_values\u001b[39m\u001b[34m(cls, query_descriptor, params)\u001b[39m\n\u001b[32m     37\u001b[39m \u001b[38;5;28mcls\u001b[39m.validate_params(query_descriptor_with_all_clauses, params)\n\u001b[32m     38\u001b[39m altered_query_descriptor = \u001b[38;5;28mcls\u001b[39m.__alter_query_descriptor(query_descriptor_with_all_clauses, params, \u001b[38;5;28;01mTrue\u001b[39;00m)\n\u001b[32m---> \u001b[39m\u001b[32m39\u001b[39m nlq_params = \u001b[38;5;28;01mawait\u001b[39;00m \u001b[38;5;28mcls\u001b[39m.__calculate_nlq_params(altered_query_descriptor)\n\u001b[32m     40\u001b[39m nlq_altered_query_descriptor = \u001b[38;5;28mcls\u001b[39m.__alter_query_descriptor(altered_query_descriptor, nlq_params, \u001b[38;5;28;01mFalse\u001b[39;00m)\n\u001b[32m     41\u001b[39m default_params = \u001b[38;5;28mcls\u001b[39m.__calculate_default_params(nlq_altered_query_descriptor)\n",
      "\u001b[36mFile \u001b[39m\u001b[32m~/development/my_projects/.venv/lib/python3.12/site-packages/superlinked/framework/dsl/query/query_param_value_setter.py:76\u001b[39m, in \u001b[36mQueryParamValueSetter.__calculate_nlq_params\u001b[39m\u001b[34m(cls, query_descriptor)\u001b[39m\n\u001b[32m     72\u001b[39m nlq_params = reduce(\n\u001b[32m     73\u001b[39m     \u001b[38;5;28;01mlambda\u001b[39;00m params, clause: clause.get_altered_nql_params(params), query_descriptor.clauses, NLQClauseParams()\n\u001b[32m     74\u001b[39m )\n\u001b[32m     75\u001b[39m \u001b[38;5;28;01mif\u001b[39;00m nlq_params.client_config \u001b[38;5;129;01mis\u001b[39;00m \u001b[38;5;129;01mnot\u001b[39;00m \u001b[38;5;28;01mNone\u001b[39;00m \u001b[38;5;129;01mand\u001b[39;00m nlq_params.natural_query \u001b[38;5;129;01mis\u001b[39;00m \u001b[38;5;129;01mnot\u001b[39;00m \u001b[38;5;28;01mNone\u001b[39;00m:\n\u001b[32m---> \u001b[39m\u001b[32m76\u001b[39m     \u001b[38;5;28;01mreturn\u001b[39;00m \u001b[38;5;28;01mawait\u001b[39;00m NLQHandler(nlq_params.client_config).fill_params(\n\u001b[32m     77\u001b[39m         nlq_params.natural_query,\n\u001b[32m     78\u001b[39m         query_descriptor.clauses,\n\u001b[32m     79\u001b[39m         query_descriptor._space_weight_param_info,\n\u001b[32m     80\u001b[39m         nlq_params.system_prompt,\n\u001b[32m     81\u001b[39m     )\n\u001b[32m     82\u001b[39m \u001b[38;5;28;01mreturn\u001b[39;00m {}\n",
      "\u001b[36mFile \u001b[39m\u001b[32m~/development/my_projects/.venv/lib/python3.12/site-packages/superlinked/framework/dsl/query/nlq/nlq_handler.py:59\u001b[39m, in \u001b[36mNLQHandler.fill_params\u001b[39m\u001b[34m(self, natural_query, clauses, space_weight_param_info, system_prompt)\u001b[39m\n\u001b[32m     57\u001b[39m model_class = QueryParamModelBuilder.build(clause_collector)\n\u001b[32m     58\u001b[39m instructor_prompt = QueryParamPromptBuilder.calculate_instructor_prompt(clause_collector, system_prompt)\n\u001b[32m---> \u001b[39m\u001b[32m59\u001b[39m \u001b[38;5;28;01mreturn\u001b[39;00m \u001b[38;5;28;01mawait\u001b[39;00m \u001b[38;5;28mself\u001b[39m._execute_query(natural_query, instructor_prompt, model_class)\n",
      "\u001b[36mFile \u001b[39m\u001b[32m~/development/my_projects/.venv/lib/python3.12/site-packages/superlinked/framework/dsl/query/nlq/nlq_handler.py:94\u001b[39m, in \u001b[36mNLQHandler._execute_query\u001b[39m\u001b[34m(self, query, instructor_prompt, model_class)\u001b[39m\n\u001b[32m     92\u001b[39m     \u001b[38;5;28;01mreturn\u001b[39;00m result\n\u001b[32m     93\u001b[39m \u001b[38;5;28;01mexcept\u001b[39;00m \u001b[38;5;167;01mException\u001b[39;00m \u001b[38;5;28;01mas\u001b[39;00m e:\n\u001b[32m---> \u001b[39m\u001b[32m94\u001b[39m     \u001b[38;5;28;01mraise\u001b[39;00m QueryException(\u001b[33mf\u001b[39m\u001b[33m\"\u001b[39m\u001b[33mError executing natural language query: \u001b[39m\u001b[38;5;132;01m{\u001b[39;00m\u001b[38;5;28mstr\u001b[39m(e)\u001b[38;5;132;01m}\u001b[39;00m\u001b[33m\"\u001b[39m) \u001b[38;5;28;01mfrom\u001b[39;00m\u001b[38;5;250m \u001b[39m\u001b[34;01me\u001b[39;00m\n",
      "\u001b[31mQueryException\u001b[39m: Error executing natural language query: {'message': 'Internal Server Error', 'code': 500}"
     ]
    }
   ],
   "source": [
    "from datetime import datetime\n",
    "import pandas as pd\n",
    "def date_to_unix(date_str):\n",
    "    if date_str is None:\n",
    "        return None\n",
    "    return int(datetime.strptime(date_str, \"%d/%m/%Y\").timestamp())\n",
    "# Natural language query parameters\n",
    "params = {\n",
    "    \"natural_query\": \"Recent PDF files about fashion or sport\",\n",
    "    \"limit\": 5,\n",
    "}\n",
    "\n",
    "# Run the query with natural language interface\n",
    "result = app.query(query, **params)\n",
    "\n",
    "# Print the actual interpreted search parameters extracted by NLQ\n",
    "print(\"Search Parameters Parsed by NLQ:\")\n",
    "print(result.metadata.search_params)\n",
    "\n",
    "# Convert the results to a pandas DataFrame\n",
    "df = sl.PandasConverter.to_pandas(result)\n",
    "\n",
    "# Convert Unix timestamps to dd/mm/yyyy format in the DataFrame\n",
    "import pandas as pd\n",
    "df[\"Creation_Date\"] = pd.to_datetime(df[\"Creation_Date\"], unit=\"s\").dt.strftime(\"%d/%m/%Y\")\n",
    "df[\"Last_Modified_Date\"] = pd.to_datetime(df[\"Last_Modified_Date\"], unit=\"s\").dt.strftime(\"%d/%m/%Y\")\n",
    "\n",
    "df"
   ]
  },
  {
   "cell_type": "code",
   "execution_count": 12,
   "metadata": {},
   "outputs": [
    {
     "data": {
      "text/html": [
       "<div>\n",
       "<style scoped>\n",
       "    .dataframe tbody tr th:only-of-type {\n",
       "        vertical-align: middle;\n",
       "    }\n",
       "\n",
       "    .dataframe tbody tr th {\n",
       "        vertical-align: top;\n",
       "    }\n",
       "\n",
       "    .dataframe thead th {\n",
       "        text-align: right;\n",
       "    }\n",
       "</style>\n",
       "<table border=\"1\" class=\"dataframe\">\n",
       "  <thead>\n",
       "    <tr style=\"text-align: right;\">\n",
       "      <th></th>\n",
       "      <th>id</th>\n",
       "      <th>content_similarity</th>\n",
       "      <th>filename_similarity</th>\n",
       "      <th>size_score</th>\n",
       "      <th>creation_date_score</th>\n",
       "      <th>modified_date_score</th>\n",
       "    </tr>\n",
       "  </thead>\n",
       "  <tbody>\n",
       "    <tr>\n",
       "      <th>0</th>\n",
       "      <td>id_87</td>\n",
       "      <td>0.106934</td>\n",
       "      <td>0.039032</td>\n",
       "      <td>0.108826</td>\n",
       "      <td>0.114685</td>\n",
       "      <td>0.196777</td>\n",
       "    </tr>\n",
       "    <tr>\n",
       "      <th>1</th>\n",
       "      <td>id_59</td>\n",
       "      <td>0.097839</td>\n",
       "      <td>0.026779</td>\n",
       "      <td>0.111450</td>\n",
       "      <td>0.117432</td>\n",
       "      <td>0.208496</td>\n",
       "    </tr>\n",
       "  </tbody>\n",
       "</table>\n",
       "</div>"
      ],
      "text/plain": [
       "      id  content_similarity  filename_similarity  size_score  \\\n",
       "0  id_87            0.106934             0.039032    0.108826   \n",
       "1  id_59            0.097839             0.026779    0.111450   \n",
       "\n",
       "   creation_date_score  modified_date_score  \n",
       "0             0.114685             0.196777  \n",
       "1             0.117432             0.208496  "
      ]
     },
     "execution_count": 12,
     "metadata": {},
     "output_type": "execute_result"
    }
   ],
   "source": [
    "\n",
    "# These are the names of the semantic/numeric spaces in the same order as in your index.spaces list\n",
    "space_names = [\n",
    "    \"content_similarity\",\n",
    "    \"filename_similarity\",\n",
    "    \"size_score\",\n",
    "    \"creation_date_score\",\n",
    "    \"modified_date_score\"\n",
    "]\n",
    "\n",
    "rows = []\n",
    "\n",
    "for entry in result.entries:\n",
    "    partial_scores = dict(zip(space_names, entry.metadata.partial_scores))\n",
    "    row = {\"id\": entry.id, **partial_scores}\n",
    "    rows.append(row)\n",
    "    \n",
    "df = pd.DataFrame(rows)\n",
    "df\n"
   ]
  },
  {
   "cell_type": "code",
   "execution_count": 8,
   "metadata": {},
   "outputs": [
    {
     "name": "stdout",
     "output_type": "stream",
     "text": [
      "15:45:28 superlinked.framework.query.query_dag_evaluator INFO   evaluated query\n"
     ]
    },
    {
     "name": "stdout",
     "output_type": "stream",
     "text": [
      "15:45:28 httpx INFO   HTTP Request: POST https://bad13d43-afc8-44b5-8b37-2fa1eb4f0236.eu-west-1-0.aws.cloud.qdrant.io:6333/collections/default/points/query \"HTTP/1.1 200 OK\"\n",
      "15:45:28 superlinked.framework.dsl.executor.query.query_executor INFO   executed query\n",
      "{'content_query': 'cinema fashion', 'similar_content_weight': 1.0, 'filename_query': 'technical', 'similar_filename_weight': 1.0, 'limit': 5, 'select_param__': ['Content', 'File_Type', 'Tags', 'Filename', 'Path', 'Size_kB', 'Creation_Date', 'Last_Modified_Date'], 'min_size_kb': 1000.0, 'max_size_kb': 10000.0, 'min_creation_date': 1577833200, 'max_creation_date': 1735599600, 'min_modified_date': None, 'max_modified_date': 1751234400, 'filetype_include_all': None, 'filetype_include_any': ['pdf'], 'filetype_exclude': None, 'tags_include_all': None, 'tags_include_any': ['cinema', 'fashion'], 'tags_exclude': None, 'natural_query': None, 'system_prompt_param__': \"You are an intelligent assistant that extracts structured search parameters from a user's natural language query about files.\\nYour task is to interpret queries and output parameters including:\\n - content_query: keywords or topics from file contents\\n - filename_query: keywords from file names\\n - filetype_include_any: list of file types mentioned (e.g., pdf, docx)\\n - tags_include_any: list of tags (e.g., sport, cinema)\\n - min_size_kb and max_size_kb for size filtering\\n - min_creation_date and max_creation_date as UNIX timestamps\\n - min_modified_date and max_modified_date as UNIX timestamps\\n - limit for number of results\\n\\nSpecial instructions:\\n - Detect relative date expressions like 'recent', 'last 3 years', 'older than 5 years' and convert them to appropriate UNIX timestamp filters.\\n - For queries mentioning 'recent' or 'modified in last N years', prioritize setting min_modified_date accordingly.\\n - When 'old' or 'older' files are mentioned, set max_creation_date accordingly.\\n - If size is described (e.g., 'small', 'large'), convert to approximate kilobytes.\\n - If multiple tags or file types appear, include them all in lists.\\n - If no information is available for a parameter, set it to None.\\n\\nExamples:\\n 1. 'Recent PDF files about fashion or sport' -> filetype_include_any: ['pdf'], tags_include_any: ['fashion', 'sport'], min_modified_date: timestamp ~1 year ago, max_modified_date: now\\n 2. 'Large Word documents about tennis' -> filetype_include_any: ['docx'], content_query: 'tennis', min_size_kb: 10000\\n 3. 'Old reports about cinema and cars' -> tags_include_any: ['cinema', 'cars'], max_creation_date: timestamp ~5 years ago\\n 4. 'Documents mentioning basketball' -> content_query: 'basketball'\\n\\nReturn your output as a dictionary with keys for each parameter.\\n\", 'radius_param__': None, 'content_weight': 1.0, 'filename_weight': 0.8, 'size_weight': 0.5, 'creation_date_weight': 0.6, 'modified_date_weight': 1.0}\n"
     ]
    },
    {
     "data": {
      "text/html": [
       "<div>\n",
       "<style scoped>\n",
       "    .dataframe tbody tr th:only-of-type {\n",
       "        vertical-align: middle;\n",
       "    }\n",
       "\n",
       "    .dataframe tbody tr th {\n",
       "        vertical-align: top;\n",
       "    }\n",
       "\n",
       "    .dataframe thead th {\n",
       "        text-align: right;\n",
       "    }\n",
       "</style>\n",
       "<table border=\"1\" class=\"dataframe\">\n",
       "  <thead>\n",
       "    <tr style=\"text-align: right;\">\n",
       "      <th></th>\n",
       "      <th>Content</th>\n",
       "      <th>File_Type</th>\n",
       "      <th>Tags</th>\n",
       "      <th>Filename</th>\n",
       "      <th>Path</th>\n",
       "      <th>Size_kB</th>\n",
       "      <th>Creation_Date</th>\n",
       "      <th>Last_Modified_Date</th>\n",
       "      <th>id</th>\n",
       "      <th>similarity_score</th>\n",
       "    </tr>\n",
       "  </thead>\n",
       "  <tbody>\n",
       "    <tr>\n",
       "      <th>0</th>\n",
       "      <td>Runway runway dress trend runway. Race engine ...</td>\n",
       "      <td>[pdf]</td>\n",
       "      <td>[fashion, cars, cinema]</td>\n",
       "      <td>runway.pdf</td>\n",
       "      <td>/successful/runway.pdf</td>\n",
       "      <td>6376.0</td>\n",
       "      <td>17/05/2021</td>\n",
       "      <td>09/10/2021</td>\n",
       "      <td>id_87</td>\n",
       "      <td>0.566195</td>\n",
       "    </tr>\n",
       "    <tr>\n",
       "      <th>1</th>\n",
       "      <td>Movie award award director director.</td>\n",
       "      <td>[pdf]</td>\n",
       "      <td>[cinema]</td>\n",
       "      <td>movie.pdf</td>\n",
       "      <td>/alone/past/movie.pdf</td>\n",
       "      <td>5791.0</td>\n",
       "      <td>11/09/2021</td>\n",
       "      <td>12/09/2022</td>\n",
       "      <td>id_59</td>\n",
       "      <td>0.562001</td>\n",
       "    </tr>\n",
       "  </tbody>\n",
       "</table>\n",
       "</div>"
      ],
      "text/plain": [
       "                                             Content File_Type  \\\n",
       "0  Runway runway dress trend runway. Race engine ...     [pdf]   \n",
       "1               Movie award award director director.     [pdf]   \n",
       "\n",
       "                      Tags    Filename                    Path  Size_kB  \\\n",
       "0  [fashion, cars, cinema]  runway.pdf  /successful/runway.pdf   6376.0   \n",
       "1                 [cinema]   movie.pdf   /alone/past/movie.pdf   5791.0   \n",
       "\n",
       "  Creation_Date Last_Modified_Date     id  similarity_score  \n",
       "0    17/05/2021         09/10/2021  id_87          0.566195  \n",
       "1    11/09/2021         12/09/2022  id_59          0.562001  "
      ]
     },
     "execution_count": 8,
     "metadata": {},
     "output_type": "execute_result"
    }
   ],
   "source": [
    "from datetime import datetime\n",
    "import pandas as pd\n",
    "\n",
    "def date_to_unix(date_str):\n",
    "    if date_str is None:\n",
    "        return None\n",
    "    return int(datetime.strptime(date_str, \"%d/%m/%Y\").timestamp())\n",
    "\n",
    "# Define your parameters with human-readable date strings or None\n",
    "params = {\n",
    "    # Text similarity inputs\n",
    "    \"content_query\": \"cinema fashion\",\n",
    "    \"filename_query\": \"technical\",\n",
    "\n",
    "    # Weights for semantic spaces (matching what's in query.weights)\n",
    "    \"content_weight\": 1.0,\n",
    "    \"filename_weight\": 0.8,\n",
    "    \"size_weight\": 0.5,\n",
    "    \"creation_date_weight\": 0.6,\n",
    "    \"modified_date_weight\": 1.0,\n",
    "\n",
    "    # Weights for similarity matching\n",
    "    \"similar_content_weight\": 1.0,\n",
    "    \"similar_filename_weight\": 1.0,\n",
    "\n",
    "    # Size filters (in kilobytes)\n",
    "    \"min_size_kb\": 1000,\n",
    "    \"max_size_kb\": 10000,\n",
    "\n",
    "    # Date filters (input as \"dd/mm/yyyy\" strings or None)\n",
    "    \"min_creation_date\": date_to_unix(\"01/01/2020\"),\n",
    "    \"max_creation_date\": date_to_unix(\"31/12/2024\"),\n",
    "    \"min_modified_date\": date_to_unix(None),  # No lower bound\n",
    "    \"max_modified_date\": date_to_unix(\"30/06/2025\"),\n",
    "\n",
    "    # Categorical filters (must match query.py)\n",
    "    \"filetype_include_any\": [\"pdf\"],\n",
    "    \"tags_include_any\": [\"cinema\", \"fashion\"],\n",
    "\n",
    "    # Result limit\n",
    "    \"limit\": 5,\n",
    "}\n",
    "\n",
    "# Run the query\n",
    "result = app.query(query, **params)\n",
    "\n",
    "# Inspect parameters used\n",
    "print(result.metadata.search_params)\n",
    "\n",
    "# Convert to pandas DataFrame\n",
    "df = sl.PandasConverter.to_pandas(result)\n",
    "\n",
    "# Convert Unix timestamps in the DataFrame to dd/mm/yyyy strings for display\n",
    "df[\"Creation_Date\"] = pd.to_datetime(df[\"Creation_Date\"], unit=\"s\").dt.strftime(\"%d/%m/%Y\")\n",
    "df[\"Last_Modified_Date\"] = pd.to_datetime(df[\"Last_Modified_Date\"], unit=\"s\").dt.strftime(\"%d/%m/%Y\")\n",
    "\n",
    "df\n"
   ]
  },
  {
   "cell_type": "code",
   "execution_count": 13,
   "metadata": {},
   "outputs": [
    {
     "data": {
      "text/html": [
       "<div>\n",
       "<style scoped>\n",
       "    .dataframe tbody tr th:only-of-type {\n",
       "        vertical-align: middle;\n",
       "    }\n",
       "\n",
       "    .dataframe tbody tr th {\n",
       "        vertical-align: top;\n",
       "    }\n",
       "\n",
       "    .dataframe thead th {\n",
       "        text-align: right;\n",
       "    }\n",
       "</style>\n",
       "<table border=\"1\" class=\"dataframe\">\n",
       "  <thead>\n",
       "    <tr style=\"text-align: right;\">\n",
       "      <th></th>\n",
       "      <th>id</th>\n",
       "      <th>content_similarity</th>\n",
       "      <th>filename_similarity</th>\n",
       "      <th>size_score</th>\n",
       "      <th>creation_date_score</th>\n",
       "      <th>modified_date_score</th>\n",
       "    </tr>\n",
       "  </thead>\n",
       "  <tbody>\n",
       "    <tr>\n",
       "      <th>0</th>\n",
       "      <td>id_87</td>\n",
       "      <td>0.106934</td>\n",
       "      <td>0.039032</td>\n",
       "      <td>0.108826</td>\n",
       "      <td>0.114685</td>\n",
       "      <td>0.196777</td>\n",
       "    </tr>\n",
       "    <tr>\n",
       "      <th>1</th>\n",
       "      <td>id_59</td>\n",
       "      <td>0.097839</td>\n",
       "      <td>0.026779</td>\n",
       "      <td>0.111450</td>\n",
       "      <td>0.117432</td>\n",
       "      <td>0.208496</td>\n",
       "    </tr>\n",
       "  </tbody>\n",
       "</table>\n",
       "</div>"
      ],
      "text/plain": [
       "      id  content_similarity  filename_similarity  size_score  \\\n",
       "0  id_87            0.106934             0.039032    0.108826   \n",
       "1  id_59            0.097839             0.026779    0.111450   \n",
       "\n",
       "   creation_date_score  modified_date_score  \n",
       "0             0.114685             0.196777  \n",
       "1             0.117432             0.208496  "
      ]
     },
     "execution_count": 13,
     "metadata": {},
     "output_type": "execute_result"
    }
   ],
   "source": [
    "\n",
    "# These are the names of the semantic/numeric spaces in the same order as in your index.spaces list\n",
    "space_names = [\n",
    "    \"content_similarity\",\n",
    "    \"filename_similarity\",\n",
    "    \"size_score\",\n",
    "    \"creation_date_score\",\n",
    "    \"modified_date_score\"\n",
    "]\n",
    "\n",
    "rows = []\n",
    "\n",
    "for entry in result.entries:\n",
    "    partial_scores = dict(zip(space_names, entry.metadata.partial_scores))\n",
    "    row = {\"id\": entry.id, **partial_scores}\n",
    "    rows.append(row)\n",
    "    \n",
    "df = pd.DataFrame(rows)\n",
    "df\n"
   ]
  }
 ],
 "metadata": {
  "kernelspec": {
   "display_name": ".venv",
   "language": "python",
   "name": "python3"
  },
  "language_info": {
   "codemirror_mode": {
    "name": "ipython",
    "version": 3
   },
   "file_extension": ".py",
   "mimetype": "text/x-python",
   "name": "python",
   "nbconvert_exporter": "python",
   "pygments_lexer": "ipython3",
   "version": "3.12.3"
  }
 },
 "nbformat": 4,
 "nbformat_minor": 4
}
